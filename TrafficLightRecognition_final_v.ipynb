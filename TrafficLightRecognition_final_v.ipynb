{
  "nbformat": 4,
  "nbformat_minor": 0,
  "metadata": {
    "colab": {
      "provenance": [],
      "mount_file_id": "1cWodWEbt4_mWE9nT-Zkg1PJfhsnFpReb",
      "authorship_tag": "ABX9TyOPiIDW5DmShkGztLKHNItt",
      "include_colab_link": true
    },
    "kernelspec": {
      "name": "python3",
      "display_name": "Python 3"
    },
    "language_info": {
      "name": "python"
    }
  },
  "cells": [
    {
      "cell_type": "markdown",
      "metadata": {
        "id": "view-in-github",
        "colab_type": "text"
      },
      "source": [
        "<a href=\"https://colab.research.google.com/github/roveen001/trafficlightrecognition/blob/main/TrafficLightRecognition_final_v.ipynb\" target=\"_parent\"><img src=\"https://colab.research.google.com/assets/colab-badge.svg\" alt=\"Open In Colab\"/></a>"
      ]
    },
    {
      "cell_type": "code",
      "execution_count": 2,
      "metadata": {
        "id": "4KZ2SliPhIps"
      },
      "outputs": [],
      "source": [
        "import os\n",
        "import numpy as np\n",
        "import pandas as pd\n",
        "import random as rn\n",
        "from PIL import Image \n",
        "import seaborn as sns\n",
        "from pathlib import Path\n",
        "import tensorflow as tf\n",
        "import matplotlib.pyplot as plt \n",
        "from keras.optimizers import Adam\n",
        "from keras import layers\n",
        "from keras.regularizers import l1_l2\n",
        "from mpl_toolkits.mplot3d import Axes3D\n",
        "from keras.models import Model, Sequential\n",
        "from keras.applications.vgg16 import VGG16, preprocess_input\n",
        "from keras.preprocessing.image import ImageDataGenerator\n",
        "from keras.callbacks import ModelCheckpoint, EarlyStopping\n",
        "from keras.layers import Conv2D, MaxPooling2D, Flatten, Dense, Dropout, Activation, BatchNormalization\n"
      ]
    },
    {
      "cell_type": "code",
      "source": [
        "tlr_train = pd.read_csv('drive/MyDrive/archive/Train.csv',header = 0)\n",
        "tlr_train.head()"
      ],
      "metadata": {
        "colab": {
          "base_uri": "https://localhost:8080/",
          "height": 204
        },
        "id": "jq5IbQZU6jfp",
        "outputId": "0538e9d1-f481-4ad3-f4c7-19d35dac321c"
      },
      "execution_count": 4,
      "outputs": [
        {
          "output_type": "execute_result",
          "data": {
            "text/plain": [
              "   Width  Height  Roi.X1  Roi.Y1  Roi.X2  Roi.Y2  ClassId  \\\n",
              "0     27      26       5       5      22      20       20   \n",
              "1     28      27       5       6      23      22       20   \n",
              "2     29      26       6       5      24      21       20   \n",
              "3     28      27       5       6      23      22       20   \n",
              "4     28      26       5       5      23      21       20   \n",
              "\n",
              "                             Path  \n",
              "0  Train/20/00020_00000_00000.png  \n",
              "1  Train/20/00020_00000_00001.png  \n",
              "2  Train/20/00020_00000_00002.png  \n",
              "3  Train/20/00020_00000_00003.png  \n",
              "4  Train/20/00020_00000_00004.png  "
            ],
            "text/html": [
              "\n",
              "  <div id=\"df-749b6e6b-05b2-41e5-9aa7-3f5a24effdce\">\n",
              "    <div class=\"colab-df-container\">\n",
              "      <div>\n",
              "<style scoped>\n",
              "    .dataframe tbody tr th:only-of-type {\n",
              "        vertical-align: middle;\n",
              "    }\n",
              "\n",
              "    .dataframe tbody tr th {\n",
              "        vertical-align: top;\n",
              "    }\n",
              "\n",
              "    .dataframe thead th {\n",
              "        text-align: right;\n",
              "    }\n",
              "</style>\n",
              "<table border=\"1\" class=\"dataframe\">\n",
              "  <thead>\n",
              "    <tr style=\"text-align: right;\">\n",
              "      <th></th>\n",
              "      <th>Width</th>\n",
              "      <th>Height</th>\n",
              "      <th>Roi.X1</th>\n",
              "      <th>Roi.Y1</th>\n",
              "      <th>Roi.X2</th>\n",
              "      <th>Roi.Y2</th>\n",
              "      <th>ClassId</th>\n",
              "      <th>Path</th>\n",
              "    </tr>\n",
              "  </thead>\n",
              "  <tbody>\n",
              "    <tr>\n",
              "      <th>0</th>\n",
              "      <td>27</td>\n",
              "      <td>26</td>\n",
              "      <td>5</td>\n",
              "      <td>5</td>\n",
              "      <td>22</td>\n",
              "      <td>20</td>\n",
              "      <td>20</td>\n",
              "      <td>Train/20/00020_00000_00000.png</td>\n",
              "    </tr>\n",
              "    <tr>\n",
              "      <th>1</th>\n",
              "      <td>28</td>\n",
              "      <td>27</td>\n",
              "      <td>5</td>\n",
              "      <td>6</td>\n",
              "      <td>23</td>\n",
              "      <td>22</td>\n",
              "      <td>20</td>\n",
              "      <td>Train/20/00020_00000_00001.png</td>\n",
              "    </tr>\n",
              "    <tr>\n",
              "      <th>2</th>\n",
              "      <td>29</td>\n",
              "      <td>26</td>\n",
              "      <td>6</td>\n",
              "      <td>5</td>\n",
              "      <td>24</td>\n",
              "      <td>21</td>\n",
              "      <td>20</td>\n",
              "      <td>Train/20/00020_00000_00002.png</td>\n",
              "    </tr>\n",
              "    <tr>\n",
              "      <th>3</th>\n",
              "      <td>28</td>\n",
              "      <td>27</td>\n",
              "      <td>5</td>\n",
              "      <td>6</td>\n",
              "      <td>23</td>\n",
              "      <td>22</td>\n",
              "      <td>20</td>\n",
              "      <td>Train/20/00020_00000_00003.png</td>\n",
              "    </tr>\n",
              "    <tr>\n",
              "      <th>4</th>\n",
              "      <td>28</td>\n",
              "      <td>26</td>\n",
              "      <td>5</td>\n",
              "      <td>5</td>\n",
              "      <td>23</td>\n",
              "      <td>21</td>\n",
              "      <td>20</td>\n",
              "      <td>Train/20/00020_00000_00004.png</td>\n",
              "    </tr>\n",
              "  </tbody>\n",
              "</table>\n",
              "</div>\n",
              "      <button class=\"colab-df-convert\" onclick=\"convertToInteractive('df-749b6e6b-05b2-41e5-9aa7-3f5a24effdce')\"\n",
              "              title=\"Convert this dataframe to an interactive table.\"\n",
              "              style=\"display:none;\">\n",
              "        \n",
              "  <svg xmlns=\"http://www.w3.org/2000/svg\" height=\"24px\"viewBox=\"0 0 24 24\"\n",
              "       width=\"24px\">\n",
              "    <path d=\"M0 0h24v24H0V0z\" fill=\"none\"/>\n",
              "    <path d=\"M18.56 5.44l.94 2.06.94-2.06 2.06-.94-2.06-.94-.94-2.06-.94 2.06-2.06.94zm-11 1L8.5 8.5l.94-2.06 2.06-.94-2.06-.94L8.5 2.5l-.94 2.06-2.06.94zm10 10l.94 2.06.94-2.06 2.06-.94-2.06-.94-.94-2.06-.94 2.06-2.06.94z\"/><path d=\"M17.41 7.96l-1.37-1.37c-.4-.4-.92-.59-1.43-.59-.52 0-1.04.2-1.43.59L10.3 9.45l-7.72 7.72c-.78.78-.78 2.05 0 2.83L4 21.41c.39.39.9.59 1.41.59.51 0 1.02-.2 1.41-.59l7.78-7.78 2.81-2.81c.8-.78.8-2.07 0-2.86zM5.41 20L4 18.59l7.72-7.72 1.47 1.35L5.41 20z\"/>\n",
              "  </svg>\n",
              "      </button>\n",
              "      \n",
              "  <style>\n",
              "    .colab-df-container {\n",
              "      display:flex;\n",
              "      flex-wrap:wrap;\n",
              "      gap: 12px;\n",
              "    }\n",
              "\n",
              "    .colab-df-convert {\n",
              "      background-color: #E8F0FE;\n",
              "      border: none;\n",
              "      border-radius: 50%;\n",
              "      cursor: pointer;\n",
              "      display: none;\n",
              "      fill: #1967D2;\n",
              "      height: 32px;\n",
              "      padding: 0 0 0 0;\n",
              "      width: 32px;\n",
              "    }\n",
              "\n",
              "    .colab-df-convert:hover {\n",
              "      background-color: #E2EBFA;\n",
              "      box-shadow: 0px 1px 2px rgba(60, 64, 67, 0.3), 0px 1px 3px 1px rgba(60, 64, 67, 0.15);\n",
              "      fill: #174EA6;\n",
              "    }\n",
              "\n",
              "    [theme=dark] .colab-df-convert {\n",
              "      background-color: #3B4455;\n",
              "      fill: #D2E3FC;\n",
              "    }\n",
              "\n",
              "    [theme=dark] .colab-df-convert:hover {\n",
              "      background-color: #434B5C;\n",
              "      box-shadow: 0px 1px 3px 1px rgba(0, 0, 0, 0.15);\n",
              "      filter: drop-shadow(0px 1px 2px rgba(0, 0, 0, 0.3));\n",
              "      fill: #FFFFFF;\n",
              "    }\n",
              "  </style>\n",
              "\n",
              "      <script>\n",
              "        const buttonEl =\n",
              "          document.querySelector('#df-749b6e6b-05b2-41e5-9aa7-3f5a24effdce button.colab-df-convert');\n",
              "        buttonEl.style.display =\n",
              "          google.colab.kernel.accessAllowed ? 'block' : 'none';\n",
              "\n",
              "        async function convertToInteractive(key) {\n",
              "          const element = document.querySelector('#df-749b6e6b-05b2-41e5-9aa7-3f5a24effdce');\n",
              "          const dataTable =\n",
              "            await google.colab.kernel.invokeFunction('convertToInteractive',\n",
              "                                                     [key], {});\n",
              "          if (!dataTable) return;\n",
              "\n",
              "          const docLinkHtml = 'Like what you see? Visit the ' +\n",
              "            '<a target=\"_blank\" href=https://colab.research.google.com/notebooks/data_table.ipynb>data table notebook</a>'\n",
              "            + ' to learn more about interactive tables.';\n",
              "          element.innerHTML = '';\n",
              "          dataTable['output_type'] = 'display_data';\n",
              "          await google.colab.output.renderOutput(dataTable, element);\n",
              "          const docLink = document.createElement('div');\n",
              "          docLink.innerHTML = docLinkHtml;\n",
              "          element.appendChild(docLink);\n",
              "        }\n",
              "      </script>\n",
              "    </div>\n",
              "  </div>\n",
              "  "
            ]
          },
          "metadata": {},
          "execution_count": 4
        }
      ]
    },
    {
      "cell_type": "code",
      "source": [
        "# the task is identify the image from other measurements\n",
        "# seperate feature/class, labels for traning \n",
        "# also the file path\n",
        "tlr_features = tlr_train.copy()\n",
        "tlr_labels = tlr_features.pop('ClassId')\n",
        "tlr_file = tlr_features.pop('Path')\n",
        "# convert to numpy array\n",
        "tlr_features = np.asarray(tlr_features)"
      ],
      "metadata": {
        "id": "PpSGyh2B6pqi"
      },
      "execution_count": 5,
      "outputs": []
    },
    {
      "cell_type": "code",
      "source": [
        "corr = tlr_train.corr()\n",
        "plt.figure(num=None, figsize=(5, 5), dpi=80, facecolor='w', edgecolor='k')\n",
        "corrMat = plt.matshow(corr, fignum = 1)\n",
        "plt.xticks(range(len(corr.columns)), corr.columns, rotation=90)\n",
        "plt.yticks(range(len(corr.columns)), corr.columns)\n",
        "plt.gca().xaxis.tick_bottom()\n",
        "plt.colorbar(corrMat)\n",
        "plt.title(f'Correlation Matrix for Images', fontsize=15)\n",
        "plt.show()"
      ],
      "metadata": {
        "colab": {
          "base_uri": "https://localhost:8080/",
          "height": 363
        },
        "id": "TKyS2kEE9AhE",
        "outputId": "c1153a7b-a176-4ab5-e709-2c492482f198"
      },
      "execution_count": 18,
      "outputs": [
        {
          "output_type": "display_data",
          "data": {
            "text/plain": [
              "<Figure size 400x400 with 2 Axes>"
            ],
            "image/png": "[encoded data removed]"
          },
          "metadata": {}
        }
      ]
    },
    {
      "cell_type": "code",
      "source": [
        "# normalise the inputs to the model,\n",
        "# keras normalzation fn tha precomputes the mean and variance of each column and uses it to normalise it\n",
        "\n",
        "normalize = layers.Normalization()\n",
        "normalize.adapt(tlr_features)\n",
        "# after normalization\n",
        "\n",
        "tlr_model = tf.keras.Sequential([\n",
        "    normalize,\n",
        "    layers.Dense(43),\n",
        "    layers.Dense(1)\n",
        "])\n",
        "#model.compile(optimizer= 'adam', loss='categorical_crossentropy', metrics=['accuracy'])\n",
        "\n",
        "tlr_model.compile(loss=tf.keras.losses.MeanSquaredError(), metrics = ['accuracy'],\n",
        "                  optimizer=tf.keras.optimizers.Adam())\n",
        "\n",
        "\n",
        "history = tlr_model.fit(tlr_features,tlr_labels,epochs=100)"
      ],
      "metadata": {
        "colab": {
          "base_uri": "https://localhost:8080/"
        },
        "id": "cOk7vHNj68NN",
        "outputId": "bfeba427-dedd-406b-fec9-bb0ef01e40ae"
      },
      "execution_count": 17,
      "outputs": [
        {
          "output_type": "stream",
          "name": "stdout",
          "text": [
            "Epoch 1/100\n",
            "1226/1226 [==============================] - 2s 2ms/step - loss: 192.9889 - accuracy: 0.0548\n",
            "Epoch 2/100\n",
            "1226/1226 [==============================] - 2s 2ms/step - loss: 143.8675 - accuracy: 0.0566\n",
            "Epoch 3/100\n",
            "1226/1226 [==============================] - 2s 2ms/step - loss: 143.8724 - accuracy: 0.0566\n",
            "Epoch 4/100\n",
            "1226/1226 [==============================] - 2s 2ms/step - loss: 143.8928 - accuracy: 0.0566\n",
            "Epoch 5/100\n",
            "1226/1226 [==============================] - 2s 2ms/step - loss: 143.8552 - accuracy: 0.0566\n",
            "Epoch 6/100\n",
            "1226/1226 [==============================] - 2s 1ms/step - loss: 143.8108 - accuracy: 0.0566\n",
            "Epoch 7/100\n",
            "1226/1226 [==============================] - 2s 2ms/step - loss: 143.7747 - accuracy: 0.0566\n",
            "Epoch 8/100\n",
            "1226/1226 [==============================] - 2s 2ms/step - loss: 143.8793 - accuracy: 0.0566\n",
            "Epoch 9/100\n",
            "1226/1226 [==============================] - 2s 2ms/step - loss: 143.8444 - accuracy: 0.0566\n",
            "Epoch 10/100\n",
            "1226/1226 [==============================] - 2s 2ms/step - loss: 143.7967 - accuracy: 0.0566\n",
            "Epoch 11/100\n",
            "1226/1226 [==============================] - 2s 1ms/step - loss: 143.8694 - accuracy: 0.0566\n",
            "Epoch 12/100\n",
            "1226/1226 [==============================] - 2s 1ms/step - loss: 143.8036 - accuracy: 0.0566\n",
            "Epoch 13/100\n",
            "1226/1226 [==============================] - 2s 1ms/step - loss: 143.8779 - accuracy: 0.0566\n",
            "Epoch 14/100\n",
            "1226/1226 [==============================] - 2s 1ms/step - loss: 143.8530 - accuracy: 0.0566\n",
            "Epoch 15/100\n",
            "1226/1226 [==============================] - 2s 2ms/step - loss: 143.8679 - accuracy: 0.0566\n",
            "Epoch 16/100\n",
            "1226/1226 [==============================] - 2s 1ms/step - loss: 143.8525 - accuracy: 0.0566\n",
            "Epoch 17/100\n",
            "1226/1226 [==============================] - 2s 1ms/step - loss: 143.8328 - accuracy: 0.0566\n",
            "Epoch 18/100\n",
            "1226/1226 [==============================] - 2s 1ms/step - loss: 143.8825 - accuracy: 0.0566\n",
            "Epoch 19/100\n",
            "1226/1226 [==============================] - 2s 2ms/step - loss: 143.8183 - accuracy: 0.0566\n",
            "Epoch 20/100\n",
            "1226/1226 [==============================] - 2s 1ms/step - loss: 143.8559 - accuracy: 0.0566\n",
            "Epoch 21/100\n",
            "1226/1226 [==============================] - 2s 2ms/step - loss: 143.8547 - accuracy: 0.0566\n",
            "Epoch 22/100\n",
            "1226/1226 [==============================] - 2s 2ms/step - loss: 143.8344 - accuracy: 0.0566\n",
            "Epoch 23/100\n",
            "1226/1226 [==============================] - 2s 1ms/step - loss: 143.8463 - accuracy: 0.0566\n",
            "Epoch 24/100\n",
            "1226/1226 [==============================] - 2s 1ms/step - loss: 143.8535 - accuracy: 0.0566\n",
            "Epoch 25/100\n",
            "1226/1226 [==============================] - 2s 2ms/step - loss: 143.8181 - accuracy: 0.0566\n",
            "Epoch 26/100\n",
            "1226/1226 [==============================] - 2s 1ms/step - loss: 143.8197 - accuracy: 0.0566\n",
            "Epoch 27/100\n",
            "1226/1226 [==============================] - 2s 1ms/step - loss: 143.8052 - accuracy: 0.0566\n",
            "Epoch 28/100\n",
            "1226/1226 [==============================] - 2s 1ms/step - loss: 143.7849 - accuracy: 0.0566\n",
            "Epoch 29/100\n",
            "1226/1226 [==============================] - 2s 2ms/step - loss: 143.8930 - accuracy: 0.0566\n",
            "Epoch 30/100\n",
            "1226/1226 [==============================] - 2s 2ms/step - loss: 143.8634 - accuracy: 0.0566\n",
            "Epoch 31/100\n",
            "1226/1226 [==============================] - 2s 2ms/step - loss: 143.8732 - accuracy: 0.0566\n",
            "Epoch 32/100\n",
            "1226/1226 [==============================] - 2s 2ms/step - loss: 143.8029 - accuracy: 0.0566\n",
            "Epoch 33/100\n",
            "1226/1226 [==============================] - 2s 1ms/step - loss: 143.8642 - accuracy: 0.0566\n",
            "Epoch 34/100\n",
            "1226/1226 [==============================] - 2s 2ms/step - loss: 143.8462 - accuracy: 0.0566\n",
            "Epoch 35/100\n",
            "1226/1226 [==============================] - 2s 2ms/step - loss: 143.8758 - accuracy: 0.0566\n",
            "Epoch 36/100\n",
            "1226/1226 [==============================] - 2s 2ms/step - loss: 143.8619 - accuracy: 0.0566\n",
            "Epoch 37/100\n",
            "1226/1226 [==============================] - 2s 2ms/step - loss: 143.8518 - accuracy: 0.0566\n",
            "Epoch 38/100\n",
            "1226/1226 [==============================] - 2s 1ms/step - loss: 143.8258 - accuracy: 0.0566\n",
            "Epoch 39/100\n",
            "1226/1226 [==============================] - 2s 2ms/step - loss: 143.8617 - accuracy: 0.0566\n",
            "Epoch 40/100\n",
            "1226/1226 [==============================] - 2s 1ms/step - loss: 143.8227 - accuracy: 0.0566\n",
            "Epoch 41/100\n",
            "1226/1226 [==============================] - 2s 2ms/step - loss: 143.8026 - accuracy: 0.0566\n",
            "Epoch 42/100\n",
            "1226/1226 [==============================] - 2s 2ms/step - loss: 143.8247 - accuracy: 0.0566\n",
            "Epoch 43/100\n",
            "1226/1226 [==============================] - 2s 1ms/step - loss: 143.7360 - accuracy: 0.0566\n",
            "Epoch 44/100\n",
            "1226/1226 [==============================] - 2s 2ms/step - loss: 143.8056 - accuracy: 0.0566\n",
            "Epoch 45/100\n",
            "1226/1226 [==============================] - 2s 2ms/step - loss: 143.8436 - accuracy: 0.0566\n",
            "Epoch 46/100\n",
            "1226/1226 [==============================] - 2s 2ms/step - loss: 143.8037 - accuracy: 0.0566\n",
            "Epoch 47/100\n",
            "1226/1226 [==============================] - 2s 2ms/step - loss: 143.8358 - accuracy: 0.0566\n",
            "Epoch 48/100\n",
            "1226/1226 [==============================] - 2s 2ms/step - loss: 143.8362 - accuracy: 0.0566\n",
            "Epoch 49/100\n",
            "1226/1226 [==============================] - 2s 2ms/step - loss: 143.7946 - accuracy: 0.0566\n",
            "Epoch 50/100\n",
            "1226/1226 [==============================] - 2s 2ms/step - loss: 143.8169 - accuracy: 0.0566\n",
            "Epoch 51/100\n",
            "1226/1226 [==============================] - 2s 2ms/step - loss: 143.8554 - accuracy: 0.0566\n",
            "Epoch 52/100\n",
            "1226/1226 [==============================] - 2s 1ms/step - loss: 143.8060 - accuracy: 0.0566\n",
            "Epoch 53/100\n",
            "1226/1226 [==============================] - 2s 1ms/step - loss: 143.8324 - accuracy: 0.0566\n",
            "Epoch 54/100\n",
            "1226/1226 [==============================] - 2s 1ms/step - loss: 143.8314 - accuracy: 0.0566\n",
            "Epoch 55/100\n",
            "1226/1226 [==============================] - 2s 2ms/step - loss: 143.7758 - accuracy: 0.0566\n",
            "Epoch 56/100\n",
            "1226/1226 [==============================] - 2s 1ms/step - loss: 143.8255 - accuracy: 0.0566\n",
            "Epoch 57/100\n",
            "1226/1226 [==============================] - 2s 1ms/step - loss: 143.8252 - accuracy: 0.0566\n",
            "Epoch 58/100\n",
            "1226/1226 [==============================] - 2s 2ms/step - loss: 143.8244 - accuracy: 0.0566\n",
            "Epoch 59/100\n",
            "1226/1226 [==============================] - 2s 2ms/step - loss: 143.7917 - accuracy: 0.0566\n",
            "Epoch 60/100\n",
            "1226/1226 [==============================] - 2s 2ms/step - loss: 143.8114 - accuracy: 0.0566\n",
            "Epoch 61/100\n",
            "1226/1226 [==============================] - 2s 1ms/step - loss: 143.8275 - accuracy: 0.0566\n",
            "Epoch 62/100\n",
            "1226/1226 [==============================] - 2s 2ms/step - loss: 143.8525 - accuracy: 0.0566\n",
            "Epoch 63/100\n",
            "1226/1226 [==============================] - 2s 2ms/step - loss: 143.7761 - accuracy: 0.0566\n",
            "Epoch 64/100\n",
            "1226/1226 [==============================] - 2s 2ms/step - loss: 143.8377 - accuracy: 0.0566\n",
            "Epoch 65/100\n",
            "1226/1226 [==============================] - 2s 2ms/step - loss: 143.8105 - accuracy: 0.0566\n",
            "Epoch 66/100\n",
            "1226/1226 [==============================] - 2s 2ms/step - loss: 143.8039 - accuracy: 0.0566\n",
            "Epoch 67/100\n",
            "1226/1226 [==============================] - 2s 2ms/step - loss: 143.8501 - accuracy: 0.0566\n",
            "Epoch 68/100\n",
            "1226/1226 [==============================] - 2s 1ms/step - loss: 143.7800 - accuracy: 0.0566\n",
            "Epoch 69/100\n",
            "1226/1226 [==============================] - 2s 2ms/step - loss: 143.8156 - accuracy: 0.0566\n",
            "Epoch 70/100\n",
            "1226/1226 [==============================] - 2s 2ms/step - loss: 143.7841 - accuracy: 0.0566\n",
            "Epoch 71/100\n",
            "1226/1226 [==============================] - 2s 2ms/step - loss: 143.8130 - accuracy: 0.0566\n",
            "Epoch 72/100\n",
            "1226/1226 [==============================] - 2s 1ms/step - loss: 143.7630 - accuracy: 0.0566\n",
            "Epoch 73/100\n",
            "1226/1226 [==============================] - 2s 2ms/step - loss: 143.8039 - accuracy: 0.0566\n",
            "Epoch 74/100\n",
            "1226/1226 [==============================] - 2s 1ms/step - loss: 143.8271 - accuracy: 0.0566\n",
            "Epoch 75/100\n",
            "1226/1226 [==============================] - 2s 1ms/step - loss: 143.7791 - accuracy: 0.0566\n",
            "Epoch 76/100\n",
            "1226/1226 [==============================] - 2s 1ms/step - loss: 143.7876 - accuracy: 0.0566\n",
            "Epoch 77/100\n",
            "1226/1226 [==============================] - 2s 2ms/step - loss: 143.8343 - accuracy: 0.0566\n",
            "Epoch 78/100\n",
            "1226/1226 [==============================] - 2s 2ms/step - loss: 143.7781 - accuracy: 0.0566\n",
            "Epoch 79/100\n",
            "1226/1226 [==============================] - 2s 2ms/step - loss: 143.8216 - accuracy: 0.0566\n",
            "Epoch 80/100\n",
            "1226/1226 [==============================] - 2s 2ms/step - loss: 143.7662 - accuracy: 0.0566\n",
            "Epoch 81/100\n",
            "1226/1226 [==============================] - 2s 1ms/step - loss: 143.7938 - accuracy: 0.0566\n",
            "Epoch 82/100\n",
            "1226/1226 [==============================] - 2s 2ms/step - loss: 143.8484 - accuracy: 0.0566\n",
            "Epoch 83/100\n",
            "1226/1226 [==============================] - 2s 2ms/step - loss: 143.8307 - accuracy: 0.0566\n",
            "Epoch 84/100\n",
            "1226/1226 [==============================] - 2s 1ms/step - loss: 143.8458 - accuracy: 0.0566\n",
            "Epoch 85/100\n",
            "1226/1226 [==============================] - 2s 2ms/step - loss: 143.8587 - accuracy: 0.0566\n",
            "Epoch 86/100\n",
            "1226/1226 [==============================] - 2s 1ms/step - loss: 143.8285 - accuracy: 0.0566\n",
            "Epoch 87/100\n",
            "1226/1226 [==============================] - 2s 2ms/step - loss: 143.8211 - accuracy: 0.0566\n",
            "Epoch 88/100\n",
            "1226/1226 [==============================] - 2s 2ms/step - loss: 143.8049 - accuracy: 0.0566\n",
            "Epoch 89/100\n",
            "1226/1226 [==============================] - 2s 2ms/step - loss: 143.8087 - accuracy: 0.0566\n",
            "Epoch 90/100\n",
            "1226/1226 [==============================] - 2s 2ms/step - loss: 143.8004 - accuracy: 0.0566\n",
            "Epoch 91/100\n",
            "1226/1226 [==============================] - 2s 1ms/step - loss: 143.8133 - accuracy: 0.0566\n",
            "Epoch 92/100\n",
            "1226/1226 [==============================] - 2s 2ms/step - loss: 143.7937 - accuracy: 0.0566\n",
            "Epoch 93/100\n",
            "1226/1226 [==============================] - 2s 2ms/step - loss: 143.8150 - accuracy: 0.0566\n",
            "Epoch 94/100\n",
            "1226/1226 [==============================] - 2s 2ms/step - loss: 143.8147 - accuracy: 0.0566\n",
            "Epoch 95/100\n",
            "1226/1226 [==============================] - 2s 2ms/step - loss: 143.8058 - accuracy: 0.0566\n",
            "Epoch 96/100\n",
            "1226/1226 [==============================] - 2s 1ms/step - loss: 143.8016 - accuracy: 0.0566\n",
            "Epoch 97/100\n",
            "1226/1226 [==============================] - 2s 2ms/step - loss: 143.7908 - accuracy: 0.0566\n",
            "Epoch 98/100\n",
            "1226/1226 [==============================] - 2s 2ms/step - loss: 143.8154 - accuracy: 0.0566\n",
            "Epoch 99/100\n",
            "1226/1226 [==============================] - 2s 2ms/step - loss: 143.8098 - accuracy: 0.0566\n",
            "Epoch 100/100\n",
            "1226/1226 [==============================] - 2s 1ms/step - loss: 143.7932 - accuracy: 0.0566\n"
          ]
        }
      ]
    },
    {
      "cell_type": "code",
      "source": [
        "pd.DataFrame(history.history).plot(figsize=(8,5))\n",
        "plt.grid(True)"
      ],
      "metadata": {
        "colab": {
          "base_uri": "https://localhost:8080/",
          "height": 320
        },
        "id": "BXgpjuPJ-byG",
        "outputId": "a5712b83-a570-4e77-a50a-f3244791610d"
      },
      "execution_count": 19,
      "outputs": [
        {
          "output_type": "display_data",
          "data": {
            "text/plain": [
              "<Figure size 576x360 with 1 Axes>"
            ],
            "image/png": "[encoded data removed]"
          },
          "metadata": {
            "needs_background": "light"
          }
        }
      ]
    },
    {
      "cell_type": "markdown",
      "source": [
        "# Train and Validataion \n",
        "## Using Keras Data Generators"
      ],
      "metadata": {
        "id": "HYZ4smxtYZ45"
      }
    },
    {
      "cell_type": "code",
      "source": [
        "BATCH_SIZE = 150  \n",
        "HEIGHT, WIDTH = 224,224 \n",
        "SEED = 2\n",
        "CHANNELS = 3\n",
        "\n",
        "# naming the classes\n",
        "classes = {0:'Speed limit (20km/h)',\n",
        "            1:'Speed limit (30km/h)', \n",
        "            2:'Speed limit (50km/h)', \n",
        "            3:'Speed limit (60km/h)', \n",
        "            4:'Speed limit (70km/h)', \n",
        "            5:'Speed limit (80km/h)', \n",
        "            6:'End of speed limit (80km/h)', \n",
        "            7:'Speed limit (100km/h)', \n",
        "            8:'Speed limit (120km/h)', \n",
        "            9:'No passing', \n",
        "            10:'No passing veh over 3.5 tons', \n",
        "            11:'Right-of-way at intersection', \n",
        "            12:'Priority road', \n",
        "            13:'Yield', \n",
        "            14:'Stop', \n",
        "            15:'No vehicles', \n",
        "            16:'Veh > 3.5 tons prohibited', \n",
        "            17:'No entry', \n",
        "            18:'General caution', \n",
        "            19:'Dangerous curve left', \n",
        "            20:'Dangerous curve right', \n",
        "            21:'Double curve', \n",
        "            22:'Bumpy road', \n",
        "            23:'Slippery road', \n",
        "            24:'Road narrows on the right', \n",
        "            25:'Road work', \n",
        "            26:'Traffic signals', \n",
        "            27:'Pedestrians', \n",
        "            28:'Children crossing', \n",
        "            29:'Bicycles crossing', \n",
        "            30:'Beware of ice/snow',\n",
        "            31:'Wild animals crossing', \n",
        "            32:'End speed + passing limits', \n",
        "            33:'Turn right ahead', \n",
        "            34:'Turn left ahead', \n",
        "            35:'Ahead only', \n",
        "            36:'Go straight or right', \n",
        "            37:'Go straight or left', \n",
        "            38:'Keep right', \n",
        "            39:'Keep left', \n",
        "            40:'Roundabout mandatory', \n",
        "            41:'End of no passing', \n",
        "            42:'End no passing veh > 3.5 tons' }\n"
      ],
      "metadata": {
        "id": "uuKo9npchs2F"
      },
      "execution_count": 11,
      "outputs": []
    },
    {
      "cell_type": "code",
      "source": [
        "# lets define the output dir path\n",
        "meta_dir = Path('drive/MyDrive/archive/Meta')\n",
        "train_dir = Path('drive/MyDrive/archive/Train')\n",
        "test_dir = Path('drive/MyDrive/archive/Test')\n",
        "\n",
        "label_keys = list(classes.keys())\n",
        "feature_labels = list(map(str, label_keys))\n"
      ],
      "metadata": {
        "id": "XJ6RG2pWkH2t"
      },
      "execution_count": 12,
      "outputs": []
    },
    {
      "cell_type": "markdown",
      "source": [
        "## Image pre-processing and **Augmentation** "
      ],
      "metadata": {
        "id": "yK3WwLzx0Nzg"
      }
    },
    {
      "cell_type": "code",
      "source": [
        "train_generator = ImageDataGenerator(rotation_range=90,\n",
        "                                     validation_split=0.1,\n",
        "                                     brightness_range=[0.1, 0.7],\n",
        "                                     width_shift_range=0.5, \n",
        "                                     height_shift_range=0.5,\n",
        "                                     horizontal_flip=True, \n",
        "                                     vertical_flip=True,\n",
        "                                     rescale=1./255,\n",
        "                                     preprocessing_function=preprocess_input) # VGG16 preprocessing\n",
        "\n",
        "test_generator = ImageDataGenerator(preprocessing_function=preprocess_input) "
      ],
      "metadata": {
        "id": "rBqYcZhmp3cV"
      },
      "execution_count": 13,
      "outputs": []
    },
    {
      "cell_type": "code",
      "source": [
        "traingen = train_generator.flow_from_directory(train_dir,\n",
        "                                               target_size=(HEIGHT,WIDTH),\n",
        "                                               class_mode='categorical',\n",
        "                                               classes=feature_labels,\n",
        "                                               interpolation='bilinear',\n",
        "                                               subset='training',\n",
        "                                               batch_size=BATCH_SIZE, \n",
        "                                               shuffle=True,\n",
        "                                               seed=SEED)\n",
        "\n",
        "validgen = train_generator.flow_from_directory(train_dir,\n",
        "                                               target_size=(HEIGHT,WIDTH),\n",
        "                                               class_mode='categorical',\n",
        "                                               classes=feature_labels,\n",
        "                                               interpolation='bilinear',\n",
        "                                               subset='validation',\n",
        "                                               batch_size=BATCH_SIZE,\n",
        "                                               shuffle=True,\n",
        "                                               seed=SEED)\n",
        "\n",
        "testgen = test_generator.flow_from_directory(train_dir,\n",
        "                                             target_size=(HEIGHT,WIDTH),\n",
        "                                             class_mode='categorical',\n",
        "                                             classes=feature_labels,\n",
        "                                             interpolation='bilinear',\n",
        "                                             batch_size=1, \n",
        "                                             shuffle=True,\n",
        "                                             seed=SEED)"
      ],
      "metadata": {
        "id": "Lw1urFIhp703",
        "colab": {
          "base_uri": "https://localhost:8080/"
        },
        "outputId": "b0b3ec5c-5800-4e6f-db86-59398368da67"
      },
      "execution_count": 14,
      "outputs": [
        {
          "output_type": "stream",
          "name": "stdout",
          "text": [
            "Found 35289 images belonging to 43 classes.\n",
            "Found 3920 images belonging to 43 classes.\n",
            "Found 39209 images belonging to 43 classes.\n"
          ]
        }
      ]
    },
    {
      "cell_type": "code",
      "source": [
        "#display the images\n",
        "fig,ax=plt.subplots(3,4)\n",
        "fig.set_size_inches(16,12)\n",
        "img,y = traingen.next()\n",
        "for i in range(3):\n",
        "    for j in range (4):\n",
        "        l=rn.randint(0,BATCH_SIZE-1)\n",
        "        label = classes[int(list(traingen.class_indices.keys())[np.argmax(y[l])])]\n",
        "        ax[i,j].imshow(img[l])\n",
        "        ax[i,j].set_title(label)\n",
        "\n",
        "plt.tight_layout()\n"
      ],
      "metadata": {
        "colab": {
          "base_uri": "https://localhost:8080/",
          "height": 1000
        },
        "id": "dR-k8nE1ht21",
        "outputId": "5d2c0bc4-1633-4053-b833-99c20375bb6c"
      },
      "execution_count": 15,
      "outputs": [
        {
          "output_type": "stream",
          "name": "stderr",
          "text": [
            "WARNING:matplotlib.image:Clipping input data to the valid range for imshow with RGB data ([0..1] for floats or [0..255] for integers).\n",
            "WARNING:matplotlib.image:Clipping input data to the valid range for imshow with RGB data ([0..1] for floats or [0..255] for integers).\n",
            "WARNING:matplotlib.image:Clipping input data to the valid range for imshow with RGB data ([0..1] for floats or [0..255] for integers).\n",
            "WARNING:matplotlib.image:Clipping input data to the valid range for imshow with RGB data ([0..1] for floats or [0..255] for integers).\n",
            "WARNING:matplotlib.image:Clipping input data to the valid range for imshow with RGB data ([0..1] for floats or [0..255] for integers).\n",
            "WARNING:matplotlib.image:Clipping input data to the valid range for imshow with RGB data ([0..1] for floats or [0..255] for integers).\n",
            "WARNING:matplotlib.image:Clipping input data to the valid range for imshow with RGB data ([0..1] for floats or [0..255] for integers).\n",
            "WARNING:matplotlib.image:Clipping input data to the valid range for imshow with RGB data ([0..1] for floats or [0..255] for integers).\n",
            "WARNING:matplotlib.image:Clipping input data to the valid range for imshow with RGB data ([0..1] for floats or [0..255] for integers).\n",
            "WARNING:matplotlib.image:Clipping input data to the valid range for imshow with RGB data ([0..1] for floats or [0..255] for integers).\n",
            "WARNING:matplotlib.image:Clipping input data to the valid range for imshow with RGB data ([0..1] for floats or [0..255] for integers).\n",
            "WARNING:matplotlib.image:Clipping input data to the valid range for imshow with RGB data ([0..1] for floats or [0..255] for integers).\n"
          ]
        },
        {
          "output_type": "display_data",
          "data": {
            "text/plain": [
              "<Figure size 1152x864 with 12 Axes>"
            ],
            "image/png": "[encoded data removed]"
          },
          "metadata": {
            "needs_background": "light"
          }
        }
      ]
    },
    {
      "cell_type": "markdown",
      "source": [
        "# Feature Extraction\n"
      ],
      "metadata": {
        "id": "z-KwU-obUeNX"
      }
    },
    {
      "cell_type": "code",
      "source": [
        "# creating model \n",
        "vgg16_model = Sequential([VGG16(weights='imagenet', include_top=False, \n",
        "                                       input_shape=(HEIGHT,WIDTH,3)),\n",
        "                          BatchNormalization(),\n",
        "                          Flatten(),\n",
        "                          Dense(512, activation='relu'),\n",
        "                          BatchNormalization(),\n",
        "                          Dropout(rate=0.5),\n",
        "                          Dense(43, activation='softmax')\n",
        "                          ])\n",
        "\n",
        "vgg16_model.summary()"
      ],
      "metadata": {
        "id": "Vx1bdFKxtdLD",
        "colab": {
          "base_uri": "https://localhost:8080/"
        },
        "outputId": "7094bab9-8f2b-44b2-e462-3bedc0e1eb13"
      },
      "execution_count": 16,
      "outputs": [
        {
          "output_type": "stream",
          "name": "stdout",
          "text": [
            "Model: \"sequential_3\"\n",
            "_________________________________________________________________\n",
            " Layer (type)                Output Shape              Param #   \n",
            "=================================================================\n",
            " vgg16 (Functional)          (None, 7, 7, 512)         14714688  \n",
            "                                                                 \n",
            " batch_normalization (BatchN  (None, 7, 7, 512)        2048      \n",
            " ormalization)                                                   \n",
            "                                                                 \n",
            " flatten (Flatten)           (None, 25088)             0         \n",
            "                                                                 \n",
            " dense_6 (Dense)             (None, 512)               12845568  \n",
            "                                                                 \n",
            " batch_normalization_1 (Batc  (None, 512)              2048      \n",
            " hNormalization)                                                 \n",
            "                                                                 \n",
            " dropout (Dropout)           (None, 512)               0         \n",
            "                                                                 \n",
            " dense_7 (Dense)             (None, 43)                22059     \n",
            "                                                                 \n",
            "=================================================================\n",
            "Total params: 27,586,411\n",
            "Trainable params: 27,584,363\n",
            "Non-trainable params: 2,048\n",
            "_________________________________________________________________\n"
          ]
        }
      ]
    },
    {
      "cell_type": "code",
      "source": [],
      "metadata": {
        "id": "VeAjOSgSjE2f"
      },
      "execution_count": 17,
      "outputs": []
    },
    {
      "cell_type": "code",
      "source": [
        "# loading the pre-trained model\n",
        "OPTIM1=Adam(learning_rate=0.001)\n",
        "NTRAIN_STEPS = traingen.samples // BATCH_SIZE \n",
        "NVALID_STEPS = validgen.samples // BATCH_SIZE \n",
        "\n",
        "EPOCHS = 8\n",
        "\n",
        "#get the tranining model\n",
        "vgg16_model.compile( optimizer=OPTIM1, loss='categorical_crossentropy', metrics=['accuracy'])\n",
        "\n",
        "# Saves Keras model after each epoch\n",
        "checkpointer = ModelCheckpoint(filepath='img_model.weights.best.hdf5', \n",
        "                               verbose=1, \n",
        "                               save_best_only=True)\n",
        "\n",
        "# Early stopping to prevent overtraining and to ensure decreasing validation loss\n",
        "early_stop = EarlyStopping(monitor='val_loss',\n",
        "                           patience=10,\n",
        "                           restore_best_weights=True,\n",
        "                           mode='min')\n"
      ],
      "metadata": {
        "id": "_gkmRPhpU0HB"
      },
      "execution_count": 20,
      "outputs": []
    },
    {
      "cell_type": "code",
      "source": [
        "# loading the pre-trained model\n",
        "OPTIM1=Adam(learning_rate=0.001)\n",
        "NTRAIN_STEPS = traingen.samples // BATCH_SIZE \n",
        "NVALID_STEPS = validgen.samples // BATCH_SIZE \n",
        "\n",
        "EPOCHS = 15\n",
        "#NCLASSES = 43\n",
        "\n",
        "\n",
        "# early_stopping = EarlyStopping(monitor = 'val_loss', patience = 5)\n",
        "checkpointer = ModelCheckpoint(filepath='drive/myDrive/Colab Notebooks/weights.hdf5', \n",
        "                               verbose=1, save_best_only=True)\n",
        "\n",
        "early_stopping = EarlyStopping(monitor = 'val_loss', patience = 5)\n",
        "\n",
        "#get the traning model\n",
        "vgg16_model.compile(optimizer=OPTIM1, loss='categorical_crossentropy', metrics=['accuracy'])\n",
        "\n",
        "\n"
      ],
      "metadata": {
        "id": "teURLdtQOqCH"
      },
      "execution_count": 19,
      "outputs": []
    },
    {
      "cell_type": "code",
      "source": [
        "\n",
        "len(traingen), NTRAIN_STEPS,len(validgen), NVALID_STEPS,traingen.samples // BATCH_SIZE "
      ],
      "metadata": {
        "colab": {
          "base_uri": "https://localhost:8080/"
        },
        "id": "dWLey1TxwJT-",
        "outputId": "d7eaa40f-e2e2-45ff-d4d3-411db5ee305b"
      },
      "execution_count": 20,
      "outputs": [
        {
          "output_type": "execute_result",
          "data": {
            "text/plain": [
              "(236, 235, 27, 26, 235)"
            ]
          },
          "metadata": {},
          "execution_count": 20
        }
      ]
    },
    {
      "cell_type": "code",
      "source": [
        "vgg_history=vgg16_model.fit(traingen,\n",
        "          steps_per_epoch=NTRAIN_STEPS,\n",
        "          validation_data=validgen,\n",
        "          validation_steps=NVALID_STEPS,\n",
        "          epochs=EPOCHS,\n",
        "          callbacks = [checkpointer, early_stopping])"
      ],
      "metadata": {
        "colab": {
          "base_uri": "https://localhost:8080/"
        },
        "id": "pAwEvy6bQTX9",
        "outputId": "f552be73-97cb-4dcc-dd7c-b948319d0286"
      },
      "execution_count": null,
      "outputs": [
        {
          "output_type": "stream",
          "name": "stdout",
          "text": [
            "Epoch 1/5\n",
            " 40/235 [====>.........................] - ETA: 10:59:34 - loss: 4.0965 - accuracy: 0.0447"
          ]
        }
      ]
    },
    {
      "cell_type": "code",
      "source": [
        "# plotting the values obtained from the succesful code exectution\n",
        "# taking really long time \n",
        "# could did it once never after that\n",
        "\n",
        "vgg_history_c = pd.DataFrame({\n",
        "    'loss':[3.3872,1.6818,1.0822,0.6545,0.3605,0.2369,0.1578,0.1158,0.1013,0.0527,0.0396,0.0305,0.0259,0.0388,0.0271],\n",
        "    'val_loss':[25.5559,27.0457,40.4587,52.6746,49.0193,45.6912,37.0521,31.4948,20.3046,16.6583,2.8304,9.5822,5.0446,3.0341,3.8581],\n",
        "    'accuracy':[0.2327,0.4749,0.6256,0.7701,0.8794,0.9178,0.9497,0.9614,0.9696,0.9836,0.9873,0.9907,0.9925,0.9862,0.9914],\n",
        "    'val_accuracy':[0.0000e+00,0.2257,0.2257,0.2257,0.2257,0.2257,0.2257,0.2257,0.2257,0.2257,0.3222,0.2257,0.2470,0.3402,0.2917]\n",
        "})\n",
        "\n",
        "vgg_history_c"
      ],
      "metadata": {
        "colab": {
          "base_uri": "https://localhost:8080/",
          "height": 514
        },
        "id": "8lWY65a3JPR5",
        "outputId": "7fb0292f-9f71-49b0-974e-b810c6bb3b81"
      },
      "execution_count": 4,
      "outputs": [
        {
          "output_type": "execute_result",
          "data": {
            "text/plain": [
              "      loss  val_loss  accuracy  val_accuracy\n",
              "0   3.3872   25.5559    0.2327        0.0000\n",
              "1   1.6818   27.0457    0.4749        0.2257\n",
              "2   1.0822   40.4587    0.6256        0.2257\n",
              "3   0.6545   52.6746    0.7701        0.2257\n",
              "4   0.3605   49.0193    0.8794        0.2257\n",
              "5   0.2369   45.6912    0.9178        0.2257\n",
              "6   0.1578   37.0521    0.9497        0.2257\n",
              "7   0.1158   31.4948    0.9614        0.2257\n",
              "8   0.1013   20.3046    0.9696        0.2257\n",
              "9   0.0527   16.6583    0.9836        0.2257\n",
              "10  0.0396    2.8304    0.9873        0.3222\n",
              "11  0.0305    9.5822    0.9907        0.2257\n",
              "12  0.0259    5.0446    0.9925        0.2470\n",
              "13  0.0388    3.0341    0.9862        0.3402\n",
              "14  0.0271    3.8581    0.9914        0.2917"
            ],
            "text/html": [
              "\n",
              "  <div id=\"df-0c606b75-cc7b-473b-b341-3d408c70ca16\">\n",
              "    <div class=\"colab-df-container\">\n",
              "      <div>\n",
              "<style scoped>\n",
              "    .dataframe tbody tr th:only-of-type {\n",
              "        vertical-align: middle;\n",
              "    }\n",
              "\n",
              "    .dataframe tbody tr th {\n",
              "        vertical-align: top;\n",
              "    }\n",
              "\n",
              "    .dataframe thead th {\n",
              "        text-align: right;\n",
              "    }\n",
              "</style>\n",
              "<table border=\"1\" class=\"dataframe\">\n",
              "  <thead>\n",
              "    <tr style=\"text-align: right;\">\n",
              "      <th></th>\n",
              "      <th>loss</th>\n",
              "      <th>val_loss</th>\n",
              "      <th>accuracy</th>\n",
              "      <th>val_accuracy</th>\n",
              "    </tr>\n",
              "  </thead>\n",
              "  <tbody>\n",
              "    <tr>\n",
              "      <th>0</th>\n",
              "      <td>3.3872</td>\n",
              "      <td>25.5559</td>\n",
              "      <td>0.2327</td>\n",
              "      <td>0.0000</td>\n",
              "    </tr>\n",
              "    <tr>\n",
              "      <th>1</th>\n",
              "      <td>1.6818</td>\n",
              "      <td>27.0457</td>\n",
              "      <td>0.4749</td>\n",
              "      <td>0.2257</td>\n",
              "    </tr>\n",
              "    <tr>\n",
              "      <th>2</th>\n",
              "      <td>1.0822</td>\n",
              "      <td>40.4587</td>\n",
              "      <td>0.6256</td>\n",
              "      <td>0.2257</td>\n",
              "    </tr>\n",
              "    <tr>\n",
              "      <th>3</th>\n",
              "      <td>0.6545</td>\n",
              "      <td>52.6746</td>\n",
              "      <td>0.7701</td>\n",
              "      <td>0.2257</td>\n",
              "    </tr>\n",
              "    <tr>\n",
              "      <th>4</th>\n",
              "      <td>0.3605</td>\n",
              "      <td>49.0193</td>\n",
              "      <td>0.8794</td>\n",
              "      <td>0.2257</td>\n",
              "    </tr>\n",
              "    <tr>\n",
              "      <th>5</th>\n",
              "      <td>0.2369</td>\n",
              "      <td>45.6912</td>\n",
              "      <td>0.9178</td>\n",
              "      <td>0.2257</td>\n",
              "    </tr>\n",
              "    <tr>\n",
              "      <th>6</th>\n",
              "      <td>0.1578</td>\n",
              "      <td>37.0521</td>\n",
              "      <td>0.9497</td>\n",
              "      <td>0.2257</td>\n",
              "    </tr>\n",
              "    <tr>\n",
              "      <th>7</th>\n",
              "      <td>0.1158</td>\n",
              "      <td>31.4948</td>\n",
              "      <td>0.9614</td>\n",
              "      <td>0.2257</td>\n",
              "    </tr>\n",
              "    <tr>\n",
              "      <th>8</th>\n",
              "      <td>0.1013</td>\n",
              "      <td>20.3046</td>\n",
              "      <td>0.9696</td>\n",
              "      <td>0.2257</td>\n",
              "    </tr>\n",
              "    <tr>\n",
              "      <th>9</th>\n",
              "      <td>0.0527</td>\n",
              "      <td>16.6583</td>\n",
              "      <td>0.9836</td>\n",
              "      <td>0.2257</td>\n",
              "    </tr>\n",
              "    <tr>\n",
              "      <th>10</th>\n",
              "      <td>0.0396</td>\n",
              "      <td>2.8304</td>\n",
              "      <td>0.9873</td>\n",
              "      <td>0.3222</td>\n",
              "    </tr>\n",
              "    <tr>\n",
              "      <th>11</th>\n",
              "      <td>0.0305</td>\n",
              "      <td>9.5822</td>\n",
              "      <td>0.9907</td>\n",
              "      <td>0.2257</td>\n",
              "    </tr>\n",
              "    <tr>\n",
              "      <th>12</th>\n",
              "      <td>0.0259</td>\n",
              "      <td>5.0446</td>\n",
              "      <td>0.9925</td>\n",
              "      <td>0.2470</td>\n",
              "    </tr>\n",
              "    <tr>\n",
              "      <th>13</th>\n",
              "      <td>0.0388</td>\n",
              "      <td>3.0341</td>\n",
              "      <td>0.9862</td>\n",
              "      <td>0.3402</td>\n",
              "    </tr>\n",
              "    <tr>\n",
              "      <th>14</th>\n",
              "      <td>0.0271</td>\n",
              "      <td>3.8581</td>\n",
              "      <td>0.9914</td>\n",
              "      <td>0.2917</td>\n",
              "    </tr>\n",
              "  </tbody>\n",
              "</table>\n",
              "</div>\n",
              "      <button class=\"colab-df-convert\" onclick=\"convertToInteractive('df-0c606b75-cc7b-473b-b341-3d408c70ca16')\"\n",
              "              title=\"Convert this dataframe to an interactive table.\"\n",
              "              style=\"display:none;\">\n",
              "        \n",
              "  <svg xmlns=\"http://www.w3.org/2000/svg\" height=\"24px\"viewBox=\"0 0 24 24\"\n",
              "       width=\"24px\">\n",
              "    <path d=\"M0 0h24v24H0V0z\" fill=\"none\"/>\n",
              "    <path d=\"M18.56 5.44l.94 2.06.94-2.06 2.06-.94-2.06-.94-.94-2.06-.94 2.06-2.06.94zm-11 1L8.5 8.5l.94-2.06 2.06-.94-2.06-.94L8.5 2.5l-.94 2.06-2.06.94zm10 10l.94 2.06.94-2.06 2.06-.94-2.06-.94-.94-2.06-.94 2.06-2.06.94z\"/><path d=\"M17.41 7.96l-1.37-1.37c-.4-.4-.92-.59-1.43-.59-.52 0-1.04.2-1.43.59L10.3 9.45l-7.72 7.72c-.78.78-.78 2.05 0 2.83L4 21.41c.39.39.9.59 1.41.59.51 0 1.02-.2 1.41-.59l7.78-7.78 2.81-2.81c.8-.78.8-2.07 0-2.86zM5.41 20L4 18.59l7.72-7.72 1.47 1.35L5.41 20z\"/>\n",
              "  </svg>\n",
              "      </button>\n",
              "      \n",
              "  <style>\n",
              "    .colab-df-container {\n",
              "      display:flex;\n",
              "      flex-wrap:wrap;\n",
              "      gap: 12px;\n",
              "    }\n",
              "\n",
              "    .colab-df-convert {\n",
              "      background-color: #E8F0FE;\n",
              "      border: none;\n",
              "      border-radius: 50%;\n",
              "      cursor: pointer;\n",
              "      display: none;\n",
              "      fill: #1967D2;\n",
              "      height: 32px;\n",
              "      padding: 0 0 0 0;\n",
              "      width: 32px;\n",
              "    }\n",
              "\n",
              "    .colab-df-convert:hover {\n",
              "      background-color: #E2EBFA;\n",
              "      box-shadow: 0px 1px 2px rgba(60, 64, 67, 0.3), 0px 1px 3px 1px rgba(60, 64, 67, 0.15);\n",
              "      fill: #174EA6;\n",
              "    }\n",
              "\n",
              "    [theme=dark] .colab-df-convert {\n",
              "      background-color: #3B4455;\n",
              "      fill: #D2E3FC;\n",
              "    }\n",
              "\n",
              "    [theme=dark] .colab-df-convert:hover {\n",
              "      background-color: #434B5C;\n",
              "      box-shadow: 0px 1px 3px 1px rgba(0, 0, 0, 0.15);\n",
              "      filter: drop-shadow(0px 1px 2px rgba(0, 0, 0, 0.3));\n",
              "      fill: #FFFFFF;\n",
              "    }\n",
              "  </style>\n",
              "\n",
              "      <script>\n",
              "        const buttonEl =\n",
              "          document.querySelector('#df-0c606b75-cc7b-473b-b341-3d408c70ca16 button.colab-df-convert');\n",
              "        buttonEl.style.display =\n",
              "          google.colab.kernel.accessAllowed ? 'block' : 'none';\n",
              "\n",
              "        async function convertToInteractive(key) {\n",
              "          const element = document.querySelector('#df-0c606b75-cc7b-473b-b341-3d408c70ca16');\n",
              "          const dataTable =\n",
              "            await google.colab.kernel.invokeFunction('convertToInteractive',\n",
              "                                                     [key], {});\n",
              "          if (!dataTable) return;\n",
              "\n",
              "          const docLinkHtml = 'Like what you see? Visit the ' +\n",
              "            '<a target=\"_blank\" href=https://colab.research.google.com/notebooks/data_table.ipynb>data table notebook</a>'\n",
              "            + ' to learn more about interactive tables.';\n",
              "          element.innerHTML = '';\n",
              "          dataTable['output_type'] = 'display_data';\n",
              "          await google.colab.output.renderOutput(dataTable, element);\n",
              "          const docLink = document.createElement('div');\n",
              "          docLink.innerHTML = docLinkHtml;\n",
              "          element.appendChild(docLink);\n",
              "        }\n",
              "      </script>\n",
              "    </div>\n",
              "  </div>\n",
              "  "
            ]
          },
          "metadata": {},
          "execution_count": 4
        }
      ]
    },
    {
      "cell_type": "code",
      "source": [
        "plt.figure(figsize=(20,15))\n",
        "fig,ax=plt.subplots(1,2)\n",
        "fig.set_size_inches(14,10)\n",
        "\n",
        "  \n",
        "vgg_history_c.plot(kind = 'line',\n",
        "        y = 'loss',\n",
        "        color = 'green', ax = ax[0])\n",
        "  \n",
        "vgg_history_c.plot(kind = 'line',\n",
        "        y = 'val_loss',\n",
        "        color = 'blue',ax = ax[0])\n",
        "  \n",
        "vgg_history_c.plot(kind = 'line',\n",
        "        y = 'accuracy',\n",
        "        color = 'black', ax = ax[1])\n",
        "  \n",
        "vgg_history_c.plot(kind = 'line',\n",
        "        y = 'val_accuracy',\n",
        "        color = 'red', ax=ax[1])\n",
        "\n",
        "# set the title\n",
        "\n",
        "fig.suptitle('VGG-16 Performance \\n Model Loss  and Model Accuracy')\n",
        "  \n",
        "# show the plot\n",
        "plt.show()"
      ],
      "metadata": {
        "id": "HXj8sQCO0d9C",
        "colab": {
          "base_uri": "https://localhost:8080/",
          "height": 680
        },
        "outputId": "c24dd6ce-ed24-4ddd-e689-0253651a5eea"
      },
      "execution_count": 16,
      "outputs": [
        {
          "output_type": "display_data",
          "data": {
            "text/plain": [
              "<Figure size 1440x1080 with 0 Axes>"
            ]
          },
          "metadata": {}
        },
        {
          "output_type": "display_data",
          "data": {
            "text/plain": [
              "<Figure size 1008x720 with 2 Axes>"
            ],
            "image/png": "[encoded data removed]"
          },
          "metadata": {
            "needs_background": "light"
          }
        }
      ]
    },
    {
      "cell_type": "code",
      "source": [
        "vgg_history_c.plot(figsize=(8, 5))\n",
        "plt.grid(True)\n",
        "plt.gca().set_ylim(0, 1)\n",
        "plt.show()"
      ],
      "metadata": {
        "colab": {
          "base_uri": "https://localhost:8080/",
          "height": 324
        },
        "id": "0w9UOebcCB62",
        "outputId": "1b56b1c6-f240-4b14-ef84-03d3c7027959"
      },
      "execution_count": 6,
      "outputs": [
        {
          "output_type": "display_data",
          "data": {
            "text/plain": [
              "<Figure size 576x360 with 1 Axes>"
            ],
            "image/png": "[encoded data removed]"
          },
          "metadata": {
            "needs_background": "light"
          }
        }
      ]
    },
    {
      "cell_type": "code",
      "source": [],
      "metadata": {
        "id": "eTvDmfEdEgiY"
      },
      "execution_count": null,
      "outputs": []
    }
  ]
}