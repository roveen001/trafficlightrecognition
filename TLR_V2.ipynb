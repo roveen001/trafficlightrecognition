{
  "nbformat": 4,
  "nbformat_minor": 0,
  "metadata": {
    "colab": {
      "provenance": [],
      "authorship_tag": "ABX9TyNXjrsO1p+E+xfaj2U04hNv",
      "include_colab_link": true
    },
    "kernelspec": {
      "name": "python3",
      "display_name": "Python 3"
    },
    "language_info": {
      "name": "python"
    }
  },
  "cells": [
    {
      "cell_type": "markdown",
      "metadata": {
        "id": "view-in-github",
        "colab_type": "text"
      },
      "source": [
        "<a href=\"https://colab.research.google.com/github/roveen001/trafficlightrecognition/blob/main/TLR_V2.ipynb\" target=\"_parent\"><img src=\"https://colab.research.google.com/assets/colab-badge.svg\" alt=\"Open In Colab\"/></a>"
      ]
    },
    {
      "cell_type": "code",
      "execution_count": 6,
      "metadata": {
        "id": "L5tF-7czTd1y"
      },
      "outputs": [],
      "source": [
        "import pandas as pd\n",
        "import numpy as np\n",
        "\n",
        "# Make numpy values easier to read.\n",
        "np.set_printoptions(precision=3, suppress=True)\n",
        "\n",
        "import tensorflow as tf\n",
        "from tensorflow.keras import layers\n",
        "\n",
        "import matplotlib.pyplot as plt \n"
      ]
    },
    {
      "cell_type": "code",
      "source": [
        "tlr_train = pd.read_csv('drive/MyDrive/archive/Train.csv',header = 0)\n",
        "tlr_train.head()"
      ],
      "metadata": {
        "colab": {
          "base_uri": "https://localhost:8080/",
          "height": 204
        },
        "id": "fIZt2-zrTjKe",
        "outputId": "26a3d5f1-151f-4b01-ea0c-873574053e97"
      },
      "execution_count": 7,
      "outputs": [
        {
          "output_type": "execute_result",
          "data": {
            "text/plain": [
              "   Width  Height  Roi.X1  Roi.Y1  Roi.X2  Roi.Y2  ClassId  \\\n",
              "0     27      26       5       5      22      20       20   \n",
              "1     28      27       5       6      23      22       20   \n",
              "2     29      26       6       5      24      21       20   \n",
              "3     28      27       5       6      23      22       20   \n",
              "4     28      26       5       5      23      21       20   \n",
              "\n",
              "                             Path  \n",
              "0  Train/20/00020_00000_00000.png  \n",
              "1  Train/20/00020_00000_00001.png  \n",
              "2  Train/20/00020_00000_00002.png  \n",
              "3  Train/20/00020_00000_00003.png  \n",
              "4  Train/20/00020_00000_00004.png  "
            ],
            "text/html": [
              "\n",
              "  <div id=\"df-1a3a3200-9e39-421b-b7b0-9e43e1778686\">\n",
              "    <div class=\"colab-df-container\">\n",
              "      <div>\n",
              "<style scoped>\n",
              "    .dataframe tbody tr th:only-of-type {\n",
              "        vertical-align: middle;\n",
              "    }\n",
              "\n",
              "    .dataframe tbody tr th {\n",
              "        vertical-align: top;\n",
              "    }\n",
              "\n",
              "    .dataframe thead th {\n",
              "        text-align: right;\n",
              "    }\n",
              "</style>\n",
              "<table border=\"1\" class=\"dataframe\">\n",
              "  <thead>\n",
              "    <tr style=\"text-align: right;\">\n",
              "      <th></th>\n",
              "      <th>Width</th>\n",
              "      <th>Height</th>\n",
              "      <th>Roi.X1</th>\n",
              "      <th>Roi.Y1</th>\n",
              "      <th>Roi.X2</th>\n",
              "      <th>Roi.Y2</th>\n",
              "      <th>ClassId</th>\n",
              "      <th>Path</th>\n",
              "    </tr>\n",
              "  </thead>\n",
              "  <tbody>\n",
              "    <tr>\n",
              "      <th>0</th>\n",
              "      <td>27</td>\n",
              "      <td>26</td>\n",
              "      <td>5</td>\n",
              "      <td>5</td>\n",
              "      <td>22</td>\n",
              "      <td>20</td>\n",
              "      <td>20</td>\n",
              "      <td>Train/20/00020_00000_00000.png</td>\n",
              "    </tr>\n",
              "    <tr>\n",
              "      <th>1</th>\n",
              "      <td>28</td>\n",
              "      <td>27</td>\n",
              "      <td>5</td>\n",
              "      <td>6</td>\n",
              "      <td>23</td>\n",
              "      <td>22</td>\n",
              "      <td>20</td>\n",
              "      <td>Train/20/00020_00000_00001.png</td>\n",
              "    </tr>\n",
              "    <tr>\n",
              "      <th>2</th>\n",
              "      <td>29</td>\n",
              "      <td>26</td>\n",
              "      <td>6</td>\n",
              "      <td>5</td>\n",
              "      <td>24</td>\n",
              "      <td>21</td>\n",
              "      <td>20</td>\n",
              "      <td>Train/20/00020_00000_00002.png</td>\n",
              "    </tr>\n",
              "    <tr>\n",
              "      <th>3</th>\n",
              "      <td>28</td>\n",
              "      <td>27</td>\n",
              "      <td>5</td>\n",
              "      <td>6</td>\n",
              "      <td>23</td>\n",
              "      <td>22</td>\n",
              "      <td>20</td>\n",
              "      <td>Train/20/00020_00000_00003.png</td>\n",
              "    </tr>\n",
              "    <tr>\n",
              "      <th>4</th>\n",
              "      <td>28</td>\n",
              "      <td>26</td>\n",
              "      <td>5</td>\n",
              "      <td>5</td>\n",
              "      <td>23</td>\n",
              "      <td>21</td>\n",
              "      <td>20</td>\n",
              "      <td>Train/20/00020_00000_00004.png</td>\n",
              "    </tr>\n",
              "  </tbody>\n",
              "</table>\n",
              "</div>\n",
              "      <button class=\"colab-df-convert\" onclick=\"convertToInteractive('df-1a3a3200-9e39-421b-b7b0-9e43e1778686')\"\n",
              "              title=\"Convert this dataframe to an interactive table.\"\n",
              "              style=\"display:none;\">\n",
              "        \n",
              "  <svg xmlns=\"http://www.w3.org/2000/svg\" height=\"24px\"viewBox=\"0 0 24 24\"\n",
              "       width=\"24px\">\n",
              "    <path d=\"M0 0h24v24H0V0z\" fill=\"none\"/>\n",
              "    <path d=\"M18.56 5.44l.94 2.06.94-2.06 2.06-.94-2.06-.94-.94-2.06-.94 2.06-2.06.94zm-11 1L8.5 8.5l.94-2.06 2.06-.94-2.06-.94L8.5 2.5l-.94 2.06-2.06.94zm10 10l.94 2.06.94-2.06 2.06-.94-2.06-.94-.94-2.06-.94 2.06-2.06.94z\"/><path d=\"M17.41 7.96l-1.37-1.37c-.4-.4-.92-.59-1.43-.59-.52 0-1.04.2-1.43.59L10.3 9.45l-7.72 7.72c-.78.78-.78 2.05 0 2.83L4 21.41c.39.39.9.59 1.41.59.51 0 1.02-.2 1.41-.59l7.78-7.78 2.81-2.81c.8-.78.8-2.07 0-2.86zM5.41 20L4 18.59l7.72-7.72 1.47 1.35L5.41 20z\"/>\n",
              "  </svg>\n",
              "      </button>\n",
              "      \n",
              "  <style>\n",
              "    .colab-df-container {\n",
              "      display:flex;\n",
              "      flex-wrap:wrap;\n",
              "      gap: 12px;\n",
              "    }\n",
              "\n",
              "    .colab-df-convert {\n",
              "      background-color: #E8F0FE;\n",
              "      border: none;\n",
              "      border-radius: 50%;\n",
              "      cursor: pointer;\n",
              "      display: none;\n",
              "      fill: #1967D2;\n",
              "      height: 32px;\n",
              "      padding: 0 0 0 0;\n",
              "      width: 32px;\n",
              "    }\n",
              "\n",
              "    .colab-df-convert:hover {\n",
              "      background-color: #E2EBFA;\n",
              "      box-shadow: 0px 1px 2px rgba(60, 64, 67, 0.3), 0px 1px 3px 1px rgba(60, 64, 67, 0.15);\n",
              "      fill: #174EA6;\n",
              "    }\n",
              "\n",
              "    [theme=dark] .colab-df-convert {\n",
              "      background-color: #3B4455;\n",
              "      fill: #D2E3FC;\n",
              "    }\n",
              "\n",
              "    [theme=dark] .colab-df-convert:hover {\n",
              "      background-color: #434B5C;\n",
              "      box-shadow: 0px 1px 3px 1px rgba(0, 0, 0, 0.15);\n",
              "      filter: drop-shadow(0px 1px 2px rgba(0, 0, 0, 0.3));\n",
              "      fill: #FFFFFF;\n",
              "    }\n",
              "  </style>\n",
              "\n",
              "      <script>\n",
              "        const buttonEl =\n",
              "          document.querySelector('#df-1a3a3200-9e39-421b-b7b0-9e43e1778686 button.colab-df-convert');\n",
              "        buttonEl.style.display =\n",
              "          google.colab.kernel.accessAllowed ? 'block' : 'none';\n",
              "\n",
              "        async function convertToInteractive(key) {\n",
              "          const element = document.querySelector('#df-1a3a3200-9e39-421b-b7b0-9e43e1778686');\n",
              "          const dataTable =\n",
              "            await google.colab.kernel.invokeFunction('convertToInteractive',\n",
              "                                                     [key], {});\n",
              "          if (!dataTable) return;\n",
              "\n",
              "          const docLinkHtml = 'Like what you see? Visit the ' +\n",
              "            '<a target=\"_blank\" href=https://colab.research.google.com/notebooks/data_table.ipynb>data table notebook</a>'\n",
              "            + ' to learn more about interactive tables.';\n",
              "          element.innerHTML = '';\n",
              "          dataTable['output_type'] = 'display_data';\n",
              "          await google.colab.output.renderOutput(dataTable, element);\n",
              "          const docLink = document.createElement('div');\n",
              "          docLink.innerHTML = docLinkHtml;\n",
              "          element.appendChild(docLink);\n",
              "        }\n",
              "      </script>\n",
              "    </div>\n",
              "  </div>\n",
              "  "
            ]
          },
          "metadata": {},
          "execution_count": 7
        }
      ]
    },
    {
      "cell_type": "code",
      "source": [
        "# the task is identify the image from other measurements\n",
        "# seperate feature/class, labels for traning \n",
        "# also the file path\n",
        "tlr_features = tlr_train.copy()\n",
        "tlr_labels = tlr_features.pop('ClassId')\n",
        "tlr_file = tlr_features.pop('Path')"
      ],
      "metadata": {
        "id": "cOB8mTwgT_7Q"
      },
      "execution_count": 8,
      "outputs": []
    },
    {
      "cell_type": "code",
      "source": [
        "# convert to numpy array\n",
        "tlr_features = np.asarray(tlr_features)\n",
        "tlr_features"
      ],
      "metadata": {
        "colab": {
          "base_uri": "https://localhost:8080/"
        },
        "id": "miydFu-iU6_F",
        "outputId": "f7cade4d-76e8-4aac-ae9d-9bc5cacf10ce"
      },
      "execution_count": 9,
      "outputs": [
        {
          "output_type": "execute_result",
          "data": {
            "text/plain": [
              "array([[27, 26,  5,  5, 22, 20],\n",
              "       [28, 27,  5,  6, 23, 22],\n",
              "       [29, 26,  6,  5, 24, 21],\n",
              "       ...,\n",
              "       [58, 62,  5,  6, 53, 57],\n",
              "       [63, 69,  5,  7, 58, 63],\n",
              "       [68, 69,  7,  6, 62, 63]])"
            ]
          },
          "metadata": {},
          "execution_count": 9
        }
      ]
    },
    {
      "cell_type": "code",
      "source": [
        "tlr_labels"
      ],
      "metadata": {
        "colab": {
          "base_uri": "https://localhost:8080/"
        },
        "id": "N05PZz6DYms5",
        "outputId": "f98384cf-a572-495f-8c41-780a7976f051"
      },
      "execution_count": 10,
      "outputs": [
        {
          "output_type": "execute_result",
          "data": {
            "text/plain": [
              "0        20\n",
              "1        20\n",
              "2        20\n",
              "3        20\n",
              "4        20\n",
              "         ..\n",
              "39204    42\n",
              "39205    42\n",
              "39206    42\n",
              "39207    42\n",
              "39208    42\n",
              "Name: ClassId, Length: 39209, dtype: int64"
            ]
          },
          "metadata": {},
          "execution_count": 10
        }
      ]
    },
    {
      "cell_type": "code",
      "source": [
        "# making regression model to predict the class\n",
        "# using tf.keras.Sequential \n",
        "\n",
        "tlr_model = tf.keras.Sequential([\n",
        "    layers.Dense(64),\n",
        "    layers.Dense(1)\n",
        "])\n",
        "\n",
        "tlr_model.compile(loss=tf.keras.losses.MeanSquaredError(),\n",
        "                  optimizer=tf.keras.optimizers.Adam())"
      ],
      "metadata": {
        "id": "taMBP2yZU-TA"
      },
      "execution_count": 11,
      "outputs": []
    },
    {
      "cell_type": "code",
      "source": [
        "# train the model\n",
        "history = tlr_model.fit(tlr_features,tlr_labels, epochs=10)"
      ],
      "metadata": {
        "colab": {
          "base_uri": "https://localhost:8080/"
        },
        "id": "DiJQf2AEV3Wb",
        "outputId": "0728ab8e-ffc1-4017-a273-10971c4037bf"
      },
      "execution_count": 12,
      "outputs": [
        {
          "output_type": "stream",
          "name": "stdout",
          "text": [
            "Epoch 1/10\n",
            "1226/1226 [==============================] - 3s 2ms/step - loss: 155.9252\n",
            "Epoch 2/10\n",
            "1226/1226 [==============================] - 2s 2ms/step - loss: 149.7618\n",
            "Epoch 3/10\n",
            "1226/1226 [==============================] - 2s 2ms/step - loss: 148.7498\n",
            "Epoch 4/10\n",
            "1226/1226 [==============================] - 2s 2ms/step - loss: 148.8410\n",
            "Epoch 5/10\n",
            "1226/1226 [==============================] - 2s 2ms/step - loss: 147.7379\n",
            "Epoch 6/10\n",
            "1226/1226 [==============================] - 2s 2ms/step - loss: 147.4262\n",
            "Epoch 7/10\n",
            "1226/1226 [==============================] - 2s 1ms/step - loss: 147.2405\n",
            "Epoch 8/10\n",
            "1226/1226 [==============================] - 2s 2ms/step - loss: 146.6476\n",
            "Epoch 9/10\n",
            "1226/1226 [==============================] - 2s 2ms/step - loss: 146.6143\n",
            "Epoch 10/10\n",
            "1226/1226 [==============================] - 2s 1ms/step - loss: 146.1442\n"
          ]
        }
      ]
    },
    {
      "cell_type": "code",
      "source": [
        "tlr_model.summary()"
      ],
      "metadata": {
        "colab": {
          "base_uri": "https://localhost:8080/"
        },
        "id": "IlCQS7XUWYKN",
        "outputId": "5399a075-4941-4174-8603-15455ba0a2e9"
      },
      "execution_count": 13,
      "outputs": [
        {
          "output_type": "stream",
          "name": "stdout",
          "text": [
            "Model: \"sequential\"\n",
            "_________________________________________________________________\n",
            " Layer (type)                Output Shape              Param #   \n",
            "=================================================================\n",
            " dense (Dense)               (None, 64)                448       \n",
            "                                                                 \n",
            " dense_1 (Dense)             (None, 1)                 65        \n",
            "                                                                 \n",
            "=================================================================\n",
            "Total params: 513\n",
            "Trainable params: 513\n",
            "Non-trainable params: 0\n",
            "_________________________________________________________________\n"
          ]
        }
      ]
    },
    {
      "cell_type": "markdown",
      "source": [],
      "metadata": {
        "id": "QzDS2kxzbuNy"
      }
    },
    {
      "cell_type": "code",
      "source": [
        "pd.DataFrame(history.history).plot(figsize=(8,5))\n",
        "plt.grid(True)"
      ],
      "metadata": {
        "colab": {
          "base_uri": "https://localhost:8080/",
          "height": 320
        },
        "id": "siJlXScdXY54",
        "outputId": "960116d8-1746-4f5b-e630-da57e366f39b"
      },
      "execution_count": 14,
      "outputs": [
        {
          "output_type": "display_data",
          "data": {
            "text/plain": [
              "<Figure size 576x360 with 1 Axes>"
            ],
            "image/png": "[encoded data removed]"
          },
          "metadata": {
            "needs_background": "light"
          }
        }
      ]
    },
    {
      "cell_type": "markdown",
      "source": [
        "Basic Preprocessing \n"
      ],
      "metadata": {
        "id": "Oycnmi-dZ5t9"
      }
    },
    {
      "cell_type": "code",
      "source": [
        "# normalise the inputs to the model,\n",
        "# keras normalzation fn tha precomputes the mean and variance of each column and uses it to normalise it\n",
        "\n",
        "normalize = layers.Normalization()\n",
        "normalize.adapt(tlr_features)"
      ],
      "metadata": {
        "id": "ErBpitNdZ7hJ"
      },
      "execution_count": 15,
      "outputs": []
    },
    {
      "cell_type": "code",
      "source": [
        "# after normalization\n",
        "\n",
        "tlr_model = tf.keras.Sequential([\n",
        "    normalize,\n",
        "    layers.Dense(64),\n",
        "    layers.Dense(1)\n",
        "])\n",
        "\n",
        "tlr_model.compile(loss=tf.keras.losses.MeanSquaredError(),\n",
        "                  optimizer=tf.keras.optimizers.Adam())"
      ],
      "metadata": {
        "id": "QTNVZ2t4aMbn"
      },
      "execution_count": 16,
      "outputs": []
    },
    {
      "cell_type": "code",
      "source": [
        "# train the model\n",
        "history = tlr_model.fit(tlr_features,tlr_labels, epochs=10)"
      ],
      "metadata": {
        "colab": {
          "base_uri": "https://localhost:8080/"
        },
        "id": "WAv1lkwVaz5z",
        "outputId": "aa5ee1fc-ad1f-45d4-b139-1ffffde39765"
      },
      "execution_count": 17,
      "outputs": [
        {
          "output_type": "stream",
          "name": "stdout",
          "text": [
            "Epoch 1/10\n",
            "1226/1226 [==============================] - 2s 2ms/step - loss: 184.7674\n",
            "Epoch 2/10\n",
            "1226/1226 [==============================] - 2s 2ms/step - loss: 143.9146\n",
            "Epoch 3/10\n",
            "1226/1226 [==============================] - 3s 2ms/step - loss: 143.8551\n",
            "Epoch 4/10\n",
            "1226/1226 [==============================] - 2s 2ms/step - loss: 143.8192\n",
            "Epoch 5/10\n",
            "1226/1226 [==============================] - 2s 2ms/step - loss: 143.8501\n",
            "Epoch 6/10\n",
            "1226/1226 [==============================] - 2s 2ms/step - loss: 143.8293\n",
            "Epoch 7/10\n",
            "1226/1226 [==============================] - 2s 2ms/step - loss: 143.9034\n",
            "Epoch 8/10\n",
            "1226/1226 [==============================] - 2s 2ms/step - loss: 143.9342\n",
            "Epoch 9/10\n",
            "1226/1226 [==============================] - 2s 2ms/step - loss: 143.8973\n",
            "Epoch 10/10\n",
            "1226/1226 [==============================] - 2s 2ms/step - loss: 143.9567\n"
          ]
        }
      ]
    },
    {
      "cell_type": "code",
      "source": [
        "pd.DataFrame(history.history).plot(figsize=(8,5))\n",
        "plt.grid(True)"
      ],
      "metadata": {
        "colab": {
          "base_uri": "https://localhost:8080/",
          "height": 320
        },
        "id": "wcYMcdMNa2i4",
        "outputId": "62a0668a-6e77-409d-959c-60cd27764a64"
      },
      "execution_count": 13,
      "outputs": [
        {
          "output_type": "display_data",
          "data": {
            "text/plain": [
              "<Figure size 576x360 with 1 Axes>"
            ],
            "image/png": "[encoded data removed]"
          },
          "metadata": {
            "needs_background": "light"
          }
        }
      ]
    },
    {
      "cell_type": "code",
      "source": [],
      "metadata": {
        "id": "bRw4r75PfOJ-"
      },
      "execution_count": 13,
      "outputs": []
    },
    {
      "cell_type": "markdown",
      "source": [
        "Using the pre-trained model as feature extractor preprocessor \n",
        "using Fine tuning "
      ],
      "metadata": {
        "id": "oak78_pkmrBh"
      }
    },
    {
      "cell_type": "code",
      "source": [
        "from keras.applications.vgg16 import VGG16\n",
        "# load the  VGG16 model remove the last FD layers\n",
        "# frezzin the weights\n",
        "vgg16_model = VGG16(weights='imagenet',\n",
        "              include_top=False,\n",
        "              input_shape=(240,240,3))"
      ],
      "metadata": {
        "id": "HW1h9LCTmx-Q"
      },
      "execution_count": 18,
      "outputs": []
    },
    {
      "cell_type": "code",
      "source": [
        "vgg16_model.summary()"
      ],
      "metadata": {
        "colab": {
          "base_uri": "https://localhost:8080/"
        },
        "id": "ZX2KdJMZm-o9",
        "outputId": "05038dc0-d71c-40d8-a0aa-0b3cf18c5949"
      },
      "execution_count": 19,
      "outputs": [
        {
          "output_type": "stream",
          "name": "stdout",
          "text": [
            "Model: \"vgg16\"\n",
            "_________________________________________________________________\n",
            " Layer (type)                Output Shape              Param #   \n",
            "=================================================================\n",
            " input_2 (InputLayer)        [(None, 240, 240, 3)]     0         \n",
            "                                                                 \n",
            " block1_conv1 (Conv2D)       (None, 240, 240, 64)      1792      \n",
            "                                                                 \n",
            " block1_conv2 (Conv2D)       (None, 240, 240, 64)      36928     \n",
            "                                                                 \n",
            " block1_pool (MaxPooling2D)  (None, 120, 120, 64)      0         \n",
            "                                                                 \n",
            " block2_conv1 (Conv2D)       (None, 120, 120, 128)     73856     \n",
            "                                                                 \n",
            " block2_conv2 (Conv2D)       (None, 120, 120, 128)     147584    \n",
            "                                                                 \n",
            " block2_pool (MaxPooling2D)  (None, 60, 60, 128)       0         \n",
            "                                                                 \n",
            " block3_conv1 (Conv2D)       (None, 60, 60, 256)       295168    \n",
            "                                                                 \n",
            " block3_conv2 (Conv2D)       (None, 60, 60, 256)       590080    \n",
            "                                                                 \n",
            " block3_conv3 (Conv2D)       (None, 60, 60, 256)       590080    \n",
            "                                                                 \n",
            " block3_pool (MaxPooling2D)  (None, 30, 30, 256)       0         \n",
            "                                                                 \n",
            " block4_conv1 (Conv2D)       (None, 30, 30, 512)       1180160   \n",
            "                                                                 \n",
            " block4_conv2 (Conv2D)       (None, 30, 30, 512)       2359808   \n",
            "                                                                 \n",
            " block4_conv3 (Conv2D)       (None, 30, 30, 512)       2359808   \n",
            "                                                                 \n",
            " block4_pool (MaxPooling2D)  (None, 15, 15, 512)       0         \n",
            "                                                                 \n",
            " block5_conv1 (Conv2D)       (None, 15, 15, 512)       2359808   \n",
            "                                                                 \n",
            " block5_conv2 (Conv2D)       (None, 15, 15, 512)       2359808   \n",
            "                                                                 \n",
            " block5_conv3 (Conv2D)       (None, 15, 15, 512)       2359808   \n",
            "                                                                 \n",
            " block5_pool (MaxPooling2D)  (None, 7, 7, 512)         0         \n",
            "                                                                 \n",
            "=================================================================\n",
            "Total params: 14,714,688\n",
            "Trainable params: 14,714,688\n",
            "Non-trainable params: 0\n",
            "_________________________________________________________________\n"
          ]
        }
      ]
    },
    {
      "cell_type": "code",
      "source": [
        "traindf=pd.read_csv('drive/MyDrive/archive/Test.csv')\n",
        "traindf.head()"
      ],
      "metadata": {
        "colab": {
          "base_uri": "https://localhost:8080/",
          "height": 204
        },
        "id": "aTfOcGgO8Jcc",
        "outputId": "6c8a468d-977f-4829-b31a-544739a8a899"
      },
      "execution_count": 21,
      "outputs": [
        {
          "output_type": "execute_result",
          "data": {
            "text/plain": [
              "   Width  Height  Roi.X1  Roi.Y1  Roi.X2  Roi.Y2  ClassId            Path\n",
              "0     53      54       6       5      48      49       16  Test/00000.png\n",
              "1     42      45       5       5      36      40        1  Test/00001.png\n",
              "2     48      52       6       6      43      47       38  Test/00002.png\n",
              "3     27      29       5       5      22      24       33  Test/00003.png\n",
              "4     60      57       5       5      55      52       11  Test/00004.png"
            ],
            "text/html": [
              "\n",
              "  <div id=\"df-ba9ca0e2-d877-42d1-b571-c2d9e41d0483\">\n",
              "    <div class=\"colab-df-container\">\n",
              "      <div>\n",
              "<style scoped>\n",
              "    .dataframe tbody tr th:only-of-type {\n",
              "        vertical-align: middle;\n",
              "    }\n",
              "\n",
              "    .dataframe tbody tr th {\n",
              "        vertical-align: top;\n",
              "    }\n",
              "\n",
              "    .dataframe thead th {\n",
              "        text-align: right;\n",
              "    }\n",
              "</style>\n",
              "<table border=\"1\" class=\"dataframe\">\n",
              "  <thead>\n",
              "    <tr style=\"text-align: right;\">\n",
              "      <th></th>\n",
              "      <th>Width</th>\n",
              "      <th>Height</th>\n",
              "      <th>Roi.X1</th>\n",
              "      <th>Roi.Y1</th>\n",
              "      <th>Roi.X2</th>\n",
              "      <th>Roi.Y2</th>\n",
              "      <th>ClassId</th>\n",
              "      <th>Path</th>\n",
              "    </tr>\n",
              "  </thead>\n",
              "  <tbody>\n",
              "    <tr>\n",
              "      <th>0</th>\n",
              "      <td>53</td>\n",
              "      <td>54</td>\n",
              "      <td>6</td>\n",
              "      <td>5</td>\n",
              "      <td>48</td>\n",
              "      <td>49</td>\n",
              "      <td>16</td>\n",
              "      <td>Test/00000.png</td>\n",
              "    </tr>\n",
              "    <tr>\n",
              "      <th>1</th>\n",
              "      <td>42</td>\n",
              "      <td>45</td>\n",
              "      <td>5</td>\n",
              "      <td>5</td>\n",
              "      <td>36</td>\n",
              "      <td>40</td>\n",
              "      <td>1</td>\n",
              "      <td>Test/00001.png</td>\n",
              "    </tr>\n",
              "    <tr>\n",
              "      <th>2</th>\n",
              "      <td>48</td>\n",
              "      <td>52</td>\n",
              "      <td>6</td>\n",
              "      <td>6</td>\n",
              "      <td>43</td>\n",
              "      <td>47</td>\n",
              "      <td>38</td>\n",
              "      <td>Test/00002.png</td>\n",
              "    </tr>\n",
              "    <tr>\n",
              "      <th>3</th>\n",
              "      <td>27</td>\n",
              "      <td>29</td>\n",
              "      <td>5</td>\n",
              "      <td>5</td>\n",
              "      <td>22</td>\n",
              "      <td>24</td>\n",
              "      <td>33</td>\n",
              "      <td>Test/00003.png</td>\n",
              "    </tr>\n",
              "    <tr>\n",
              "      <th>4</th>\n",
              "      <td>60</td>\n",
              "      <td>57</td>\n",
              "      <td>5</td>\n",
              "      <td>5</td>\n",
              "      <td>55</td>\n",
              "      <td>52</td>\n",
              "      <td>11</td>\n",
              "      <td>Test/00004.png</td>\n",
              "    </tr>\n",
              "  </tbody>\n",
              "</table>\n",
              "</div>\n",
              "      <button class=\"colab-df-convert\" onclick=\"convertToInteractive('df-ba9ca0e2-d877-42d1-b571-c2d9e41d0483')\"\n",
              "              title=\"Convert this dataframe to an interactive table.\"\n",
              "              style=\"display:none;\">\n",
              "        \n",
              "  <svg xmlns=\"http://www.w3.org/2000/svg\" height=\"24px\"viewBox=\"0 0 24 24\"\n",
              "       width=\"24px\">\n",
              "    <path d=\"M0 0h24v24H0V0z\" fill=\"none\"/>\n",
              "    <path d=\"M18.56 5.44l.94 2.06.94-2.06 2.06-.94-2.06-.94-.94-2.06-.94 2.06-2.06.94zm-11 1L8.5 8.5l.94-2.06 2.06-.94-2.06-.94L8.5 2.5l-.94 2.06-2.06.94zm10 10l.94 2.06.94-2.06 2.06-.94-2.06-.94-.94-2.06-.94 2.06-2.06.94z\"/><path d=\"M17.41 7.96l-1.37-1.37c-.4-.4-.92-.59-1.43-.59-.52 0-1.04.2-1.43.59L10.3 9.45l-7.72 7.72c-.78.78-.78 2.05 0 2.83L4 21.41c.39.39.9.59 1.41.59.51 0 1.02-.2 1.41-.59l7.78-7.78 2.81-2.81c.8-.78.8-2.07 0-2.86zM5.41 20L4 18.59l7.72-7.72 1.47 1.35L5.41 20z\"/>\n",
              "  </svg>\n",
              "      </button>\n",
              "      \n",
              "  <style>\n",
              "    .colab-df-container {\n",
              "      display:flex;\n",
              "      flex-wrap:wrap;\n",
              "      gap: 12px;\n",
              "    }\n",
              "\n",
              "    .colab-df-convert {\n",
              "      background-color: #E8F0FE;\n",
              "      border: none;\n",
              "      border-radius: 50%;\n",
              "      cursor: pointer;\n",
              "      display: none;\n",
              "      fill: #1967D2;\n",
              "      height: 32px;\n",
              "      padding: 0 0 0 0;\n",
              "      width: 32px;\n",
              "    }\n",
              "\n",
              "    .colab-df-convert:hover {\n",
              "      background-color: #E2EBFA;\n",
              "      box-shadow: 0px 1px 2px rgba(60, 64, 67, 0.3), 0px 1px 3px 1px rgba(60, 64, 67, 0.15);\n",
              "      fill: #174EA6;\n",
              "    }\n",
              "\n",
              "    [theme=dark] .colab-df-convert {\n",
              "      background-color: #3B4455;\n",
              "      fill: #D2E3FC;\n",
              "    }\n",
              "\n",
              "    [theme=dark] .colab-df-convert:hover {\n",
              "      background-color: #434B5C;\n",
              "      box-shadow: 0px 1px 3px 1px rgba(0, 0, 0, 0.15);\n",
              "      filter: drop-shadow(0px 1px 2px rgba(0, 0, 0, 0.3));\n",
              "      fill: #FFFFFF;\n",
              "    }\n",
              "  </style>\n",
              "\n",
              "      <script>\n",
              "        const buttonEl =\n",
              "          document.querySelector('#df-ba9ca0e2-d877-42d1-b571-c2d9e41d0483 button.colab-df-convert');\n",
              "        buttonEl.style.display =\n",
              "          google.colab.kernel.accessAllowed ? 'block' : 'none';\n",
              "\n",
              "        async function convertToInteractive(key) {\n",
              "          const element = document.querySelector('#df-ba9ca0e2-d877-42d1-b571-c2d9e41d0483');\n",
              "          const dataTable =\n",
              "            await google.colab.kernel.invokeFunction('convertToInteractive',\n",
              "                                                     [key], {});\n",
              "          if (!dataTable) return;\n",
              "\n",
              "          const docLinkHtml = 'Like what you see? Visit the ' +\n",
              "            '<a target=\"_blank\" href=https://colab.research.google.com/notebooks/data_table.ipynb>data table notebook</a>'\n",
              "            + ' to learn more about interactive tables.';\n",
              "          element.innerHTML = '';\n",
              "          dataTable['output_type'] = 'display_data';\n",
              "          await google.colab.output.renderOutput(dataTable, element);\n",
              "          const docLink = document.createElement('div');\n",
              "          docLink.innerHTML = docLinkHtml;\n",
              "          element.appendChild(docLink);\n",
              "        }\n",
              "      </script>\n",
              "    </div>\n",
              "  </div>\n",
              "  "
            ]
          },
          "metadata": {},
          "execution_count": 21
        }
      ]
    },
    {
      "cell_type": "code",
      "source": [
        "traindf.info()"
      ],
      "metadata": {
        "colab": {
          "base_uri": "https://localhost:8080/"
        },
        "id": "sIRpMLi_p-cS",
        "outputId": "61c8f88c-d2dc-4932-98d5-b4daa92ff271"
      },
      "execution_count": 22,
      "outputs": [
        {
          "output_type": "stream",
          "name": "stdout",
          "text": [
            "<class 'pandas.core.frame.DataFrame'>\n",
            "RangeIndex: 12630 entries, 0 to 12629\n",
            "Data columns (total 8 columns):\n",
            " #   Column   Non-Null Count  Dtype \n",
            "---  ------   --------------  ----- \n",
            " 0   Width    12630 non-null  int64 \n",
            " 1   Height   12630 non-null  int64 \n",
            " 2   Roi.X1   12630 non-null  int64 \n",
            " 3   Roi.Y1   12630 non-null  int64 \n",
            " 4   Roi.X2   12630 non-null  int64 \n",
            " 5   Roi.Y2   12630 non-null  int64 \n",
            " 6   ClassId  12630 non-null  int64 \n",
            " 7   Path     12630 non-null  object\n",
            "dtypes: int64(7), object(1)\n",
            "memory usage: 789.5+ KB\n"
          ]
        }
      ]
    },
    {
      "cell_type": "code",
      "source": [
        "traindf = traindf.convert_dtypes()\n",
        "traindf.info()"
      ],
      "metadata": {
        "colab": {
          "base_uri": "https://localhost:8080/"
        },
        "id": "Qux3B8Q9qX03",
        "outputId": "c28c7612-618c-4a0d-d593-d02f0d6958bb"
      },
      "execution_count": 23,
      "outputs": [
        {
          "output_type": "stream",
          "name": "stdout",
          "text": [
            "<class 'pandas.core.frame.DataFrame'>\n",
            "RangeIndex: 12630 entries, 0 to 12629\n",
            "Data columns (total 8 columns):\n",
            " #   Column   Non-Null Count  Dtype \n",
            "---  ------   --------------  ----- \n",
            " 0   Width    12630 non-null  Int64 \n",
            " 1   Height   12630 non-null  Int64 \n",
            " 2   Roi.X1   12630 non-null  Int64 \n",
            " 3   Roi.Y1   12630 non-null  Int64 \n",
            " 4   Roi.X2   12630 non-null  Int64 \n",
            " 5   Roi.Y2   12630 non-null  Int64 \n",
            " 6   ClassId  12630 non-null  Int64 \n",
            " 7   Path     12630 non-null  string\n",
            "dtypes: Int64(7), string(1)\n",
            "memory usage: 875.8 KB\n"
          ]
        }
      ]
    },
    {
      "cell_type": "code",
      "source": [
        "traindf['ClassId'] = traindf['ClassId'].map(str)\n",
        "traindf.info()"
      ],
      "metadata": {
        "colab": {
          "base_uri": "https://localhost:8080/"
        },
        "id": "YonkPhBiVwqP",
        "outputId": "f2b79943-e25c-460a-eacc-ad2298afff97"
      },
      "execution_count": 24,
      "outputs": [
        {
          "output_type": "stream",
          "name": "stdout",
          "text": [
            "<class 'pandas.core.frame.DataFrame'>\n",
            "RangeIndex: 12630 entries, 0 to 12629\n",
            "Data columns (total 8 columns):\n",
            " #   Column   Non-Null Count  Dtype \n",
            "---  ------   --------------  ----- \n",
            " 0   Width    12630 non-null  Int64 \n",
            " 1   Height   12630 non-null  Int64 \n",
            " 2   Roi.X1   12630 non-null  Int64 \n",
            " 3   Roi.Y1   12630 non-null  Int64 \n",
            " 4   Roi.X2   12630 non-null  Int64 \n",
            " 5   Roi.Y2   12630 non-null  Int64 \n",
            " 6   ClassId  12630 non-null  object\n",
            " 7   Path     12630 non-null  string\n",
            "dtypes: Int64(6), object(1), string(1)\n",
            "memory usage: 863.5+ KB\n"
          ]
        }
      ]
    },
    {
      "cell_type": "code",
      "source": [
        "# see some images\n",
        "from skimage.io import imread\n",
        "import os\n",
        "img_path='drive/MyDrive/archive/'\n",
        "images = [(tl_image, tl_label) for (tl_image, tl_label) in zip(traindf.Path[:5], traindf.ClassId[:5])]\n",
        "fig, m_axs = plt.subplots(1, len(images), figsize = (20, 10))\n",
        "#show the images and label them\n",
        "for ii, c_ax in enumerate(m_axs):\n",
        "    c_ax.imshow(imread(os.path.join(img_path,images[ii][0])))\n",
        "    c_ax.set_title(images[ii][1])"
      ],
      "metadata": {
        "colab": {
          "base_uri": "https://localhost:8080/",
          "height": 272
        },
        "id": "eqiOG2B3RrBy",
        "outputId": "c743c824-8b91-4780-e6f5-1307c37c8281"
      },
      "execution_count": 27,
      "outputs": [
        {
          "output_type": "display_data",
          "data": {
            "text/plain": [
              "<Figure size 1440x720 with 5 Axes>"
            ],
            "image/png": "[encoded data removed]"
          },
          "metadata": {
            "needs_background": "light"
          }
        }
      ]
    },
    {
      "cell_type": "code",
      "source": [
        "# validation_split sets the percentage of data generated\n",
        "# to be used in validation phase\n",
        "from keras.preprocessing import image\n",
        "\n",
        "datagen=image.ImageDataGenerator(rescale=1./255, validation_split = 0.1)\n",
        "test_datagen=image.ImageDataGenerator(rescale=1./255) "
      ],
      "metadata": {
        "id": "vtF_19D3oTUf"
      },
      "execution_count": 28,
      "outputs": []
    },
    {
      "cell_type": "code",
      "source": [
        "train_generator=datagen.flow_from_dataframe(\n",
        "  dataframe=traindf,\n",
        "  directory='drive/MyDrive/archive',\n",
        "  x_col=\"Path\",\n",
        "  y_col=\"ClassId\",\n",
        "  #has_ext = True,\n",
        "  subset=\"training\",\n",
        "  batch_size=32,\n",
        "  seed=42,\n",
        "  shuffle=True,\n",
        "  class_mode=\"categorical\",\n",
        "  validate_filenames=True, \n",
        "  target_size=(240,240)    \n",
        "\n",
        ")                                            \n",
        "\n",
        "valid_generator=datagen.flow_from_dataframe(\n",
        "  dataframe=traindf,\n",
        "  directory='drive/MyDrive/archive',\n",
        "  x_col=\"Path\",\n",
        "  y_col=\"ClassId\",\n",
        "  #has_ext = True,\n",
        "  subset=\"validation\",\n",
        "  batch_size=32,\n",
        "  seed=42,\n",
        "  shuffle=True,\n",
        "  class_mode=\"categorical\",\n",
        "  validate_filenames=True,\n",
        "  target_size=(240,240)\n",
        ")\n",
        "\n",
        "test_datagen=image.ImageDataGenerator(rescale=1./255)\n",
        "\n",
        "test_generator=test_datagen.flow_from_directory(\n",
        "  directory=\"drive/MyDrive/archive/Train/\",\n",
        "  batch_size=1,\n",
        "  seed=42,\n",
        "  shuffle=False,\n",
        "  class_mode=None,\n",
        "  target_size=(240,240)\n",
        ")"
      ],
      "metadata": {
        "colab": {
          "base_uri": "https://localhost:8080/"
        },
        "id": "_CndB1uO8g50",
        "outputId": "ab3c4645-c3d5-408a-8fdf-6b4f63c8cc8a"
      },
      "execution_count": 29,
      "outputs": [
        {
          "output_type": "stream",
          "name": "stdout",
          "text": [
            "Found 11367 validated image filenames belonging to 43 classes.\n",
            "Found 1263 validated image filenames belonging to 43 classes.\n",
            "Found 39209 images belonging to 43 classes.\n"
          ]
        }
      ]
    },
    {
      "cell_type": "markdown",
      "source": [
        "Next let's build, compile and train the model. Here I'll use a simple Convolutional layer, Dropout and GlobalMaxPooling for the sake of simplicity. You can plug your model right here and test it! Just make sure input_shape from Conv2D is the same that target_size in the generators."
      ],
      "metadata": {
        "id": "PmcMrSStdw70"
      }
    },
    {
      "cell_type": "code",
      "source": [
        "from keras.models import Sequential\n",
        "from keras_preprocessing.image import ImageDataGenerator\n",
        "from keras.layers import Dense, Activation, Flatten, Dropout, BatchNormalization\n",
        "from keras.layers import Conv2D, MaxPooling2D\n",
        "from keras import regularizers, optimizers\n",
        "from keras.metrics import top_k_categorical_accuracy\n",
        "from keras.layers import AveragePooling2D, MaxPooling2D, Dropout, GlobalMaxPooling2D, GlobalAveragePooling2D, Concatenate, Flatten, Dense\n",
        "from keras.callbacks import EarlyStopping, ModelCheckpoint\n",
        "from keras.models import Model\n",
        "\n",
        "\n",
        "def top_5_accuracy(y_true, y_pred):\n",
        "    return top_k_categorical_accuracy(y_true, y_pred, k=5)\n",
        "\n",
        "\n",
        "for layer in vgg16_model.layers:\n",
        "  layers.trainable = False\n",
        "\n",
        "x = Flatten()(vgg16_model.output)\n",
        "x = Dense(43, activation = 'softmax')(x)\n",
        "model = Model(inputs=vgg16_model.input, outputs=x)\n",
        "# model.summary()\n",
        "\n",
        "model.compile(optimizer= 'adam', loss='categorical_crossentropy', metrics=['accuracy'])\n",
        "\n",
        "# early_stopping = EarlyStopping(monitor = 'val_loss', patience = 5)\n",
        "checkpointer = ModelCheckpoint(filepath='drive/myDrive/Colab Notebooks/weights.hdf5', \n",
        "                               verbose=1, save_best_only=True)\n",
        "\n",
        "early_stopping = EarlyStopping(monitor = 'val_loss', patience = 5)\n"
      ],
      "metadata": {
        "id": "piJpMkPwHrz4"
      },
      "execution_count": 32,
      "outputs": []
    },
    {
      "cell_type": "code",
      "source": [
        "model.summary()"
      ],
      "metadata": {
        "colab": {
          "base_uri": "https://localhost:8080/"
        },
        "id": "LFTgsKQkUomX",
        "outputId": "777120cf-f9df-4662-bc74-938d85f93af2"
      },
      "execution_count": 33,
      "outputs": [
        {
          "output_type": "stream",
          "name": "stdout",
          "text": [
            "Model: \"model_1\"\n",
            "_________________________________________________________________\n",
            " Layer (type)                Output Shape              Param #   \n",
            "=================================================================\n",
            " input_2 (InputLayer)        [(None, 240, 240, 3)]     0         \n",
            "                                                                 \n",
            " block1_conv1 (Conv2D)       (None, 240, 240, 64)      1792      \n",
            "                                                                 \n",
            " block1_conv2 (Conv2D)       (None, 240, 240, 64)      36928     \n",
            "                                                                 \n",
            " block1_pool (MaxPooling2D)  (None, 120, 120, 64)      0         \n",
            "                                                                 \n",
            " block2_conv1 (Conv2D)       (None, 120, 120, 128)     73856     \n",
            "                                                                 \n",
            " block2_conv2 (Conv2D)       (None, 120, 120, 128)     147584    \n",
            "                                                                 \n",
            " block2_pool (MaxPooling2D)  (None, 60, 60, 128)       0         \n",
            "                                                                 \n",
            " block3_conv1 (Conv2D)       (None, 60, 60, 256)       295168    \n",
            "                                                                 \n",
            " block3_conv2 (Conv2D)       (None, 60, 60, 256)       590080    \n",
            "                                                                 \n",
            " block3_conv3 (Conv2D)       (None, 60, 60, 256)       590080    \n",
            "                                                                 \n",
            " block3_pool (MaxPooling2D)  (None, 30, 30, 256)       0         \n",
            "                                                                 \n",
            " block4_conv1 (Conv2D)       (None, 30, 30, 512)       1180160   \n",
            "                                                                 \n",
            " block4_conv2 (Conv2D)       (None, 30, 30, 512)       2359808   \n",
            "                                                                 \n",
            " block4_conv3 (Conv2D)       (None, 30, 30, 512)       2359808   \n",
            "                                                                 \n",
            " block4_pool (MaxPooling2D)  (None, 15, 15, 512)       0         \n",
            "                                                                 \n",
            " block5_conv1 (Conv2D)       (None, 15, 15, 512)       2359808   \n",
            "                                                                 \n",
            " block5_conv2 (Conv2D)       (None, 15, 15, 512)       2359808   \n",
            "                                                                 \n",
            " block5_conv3 (Conv2D)       (None, 15, 15, 512)       2359808   \n",
            "                                                                 \n",
            " block5_pool (MaxPooling2D)  (None, 7, 7, 512)         0         \n",
            "                                                                 \n",
            " flatten_1 (Flatten)         (None, 25088)             0         \n",
            "                                                                 \n",
            " dense_5 (Dense)             (None, 43)                1078827   \n",
            "                                                                 \n",
            "=================================================================\n",
            "Total params: 15,793,515\n",
            "Trainable params: 15,793,515\n",
            "Non-trainable params: 0\n",
            "_________________________________________________________________\n"
          ]
        }
      ]
    },
    {
      "cell_type": "code",
      "source": [
        "NTRAIN_STEPS = train_generator.n // train_generator.batch_size\n",
        "NVALID_STEPS = valid_generator.n // valid_generator.batch_size\n",
        "\n",
        "history = model.fit(train_generator,\n",
        "          steps_per_epoch=NTRAIN_STEPS,\n",
        "          validation_data=valid_generator,\n",
        "          validation_steps=NVALID_STEPS,\n",
        "          epochs=2, callbacks = [checkpointer, early_stopping])"
      ],
      "metadata": {
        "colab": {
          "base_uri": "https://localhost:8080/",
          "height": 232
        },
        "id": "lYQs1D_zeIGR",
        "outputId": "14a67f7c-516b-412f-853e-9d4b54e19ea3"
      },
      "execution_count": 1,
      "outputs": [
        {
          "output_type": "error",
          "ename": "NameError",
          "evalue": "ignored",
          "traceback": [
            "\u001b[0;31m---------------------------------------------------------------------------\u001b[0m",
            "\u001b[0;31mNameError\u001b[0m                                 Traceback (most recent call last)",
            "\u001b[0;32m<ipython-input-1-2e3490346cce>\u001b[0m in \u001b[0;36m<module>\u001b[0;34m\u001b[0m\n\u001b[0;32m----> 1\u001b[0;31m \u001b[0mNTRAIN_STEPS\u001b[0m \u001b[0;34m=\u001b[0m \u001b[0mtrain_generator\u001b[0m\u001b[0;34m.\u001b[0m\u001b[0mn\u001b[0m \u001b[0;34m//\u001b[0m \u001b[0mtrain_generator\u001b[0m\u001b[0;34m.\u001b[0m\u001b[0mbatch_size\u001b[0m\u001b[0;34m\u001b[0m\u001b[0;34m\u001b[0m\u001b[0m\n\u001b[0m\u001b[1;32m      2\u001b[0m \u001b[0mNVALID_STEPS\u001b[0m \u001b[0;34m=\u001b[0m \u001b[0mvalid_generator\u001b[0m\u001b[0;34m.\u001b[0m\u001b[0mn\u001b[0m \u001b[0;34m//\u001b[0m \u001b[0mvalid_generator\u001b[0m\u001b[0;34m.\u001b[0m\u001b[0mbatch_size\u001b[0m\u001b[0;34m\u001b[0m\u001b[0;34m\u001b[0m\u001b[0m\n\u001b[1;32m      3\u001b[0m \u001b[0;34m\u001b[0m\u001b[0m\n\u001b[1;32m      4\u001b[0m history = model.fit(train_generator,\n\u001b[1;32m      5\u001b[0m           \u001b[0msteps_per_epoch\u001b[0m\u001b[0;34m=\u001b[0m\u001b[0mNTRAIN_STEPS\u001b[0m\u001b[0;34m,\u001b[0m\u001b[0;34m\u001b[0m\u001b[0;34m\u001b[0m\u001b[0m\n",
            "\u001b[0;31mNameError\u001b[0m: name 'train_generator' is not defined"
          ]
        }
      ]
    },
    {
      "cell_type": "code",
      "source": [],
      "metadata": {
        "id": "2rLG5bKbfUSx"
      },
      "execution_count": null,
      "outputs": []
    }
  ]
}